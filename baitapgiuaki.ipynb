{
  "nbformat": 4,
  "nbformat_minor": 0,
  "metadata": {
    "colab": {
      "provenance": [],
      "authorship_tag": "ABX9TyP09Xqte10s7WcwnIV1yk51",
      "include_colab_link": true
    },
    "kernelspec": {
      "name": "python3",
      "display_name": "Python 3"
    },
    "language_info": {
      "name": "python"
    }
  },
  "cells": [
    {
      "cell_type": "markdown",
      "metadata": {
        "id": "view-in-github",
        "colab_type": "text"
      },
      "source": [
        "<a href=\"https://colab.research.google.com/github/viett887g/baitapgiuaki/blob/main/baitapgiuaki.ipynb\" target=\"_parent\"><img src=\"https://colab.research.google.com/assets/colab-badge.svg\" alt=\"Open In Colab\"/></a>"
      ]
    },
    {
      "cell_type": "code",
      "execution_count": 1344,
      "metadata": {
        "id": "D-xtrAkjkJuE"
      },
      "outputs": [],
      "source": [
        "import numpy as np\n",
        "import matplotlib.pyplot as plt\n",
        "import pandas as pd"
      ]
    },
    {
      "cell_type": "code",
      "source": [
        "example1 = \"/content/breast-cancer-wisconsin (1).data\"\n",
        "file1 = open(example1, \"r\").read()"
      ],
      "metadata": {
        "id": "iLb47o3IvaHd"
      },
      "execution_count": 1345,
      "outputs": []
    },
    {
      "cell_type": "code",
      "source": [
        "temp = []\n",
        "for i in str.split(file1):\n",
        "  i = str.split(i)\n",
        "  temp.append(i)\n",
        "\n",
        "data = []\n",
        "for i in temp:\n",
        "  i = i[0].split(',')\n",
        "  data.append(i)\n",
        "data = np.array(data)"
      ],
      "metadata": {
        "id": "mT6Rs6X2vhil"
      },
      "execution_count": 1346,
      "outputs": []
    },
    {
      "cell_type": "code",
      "source": [
        "data=pd.DataFrame(data)\n",
        "data"
      ],
      "metadata": {
        "colab": {
          "base_uri": "https://localhost:8080/",
          "height": 424
        },
        "id": "Q0BNEvJ83hlS",
        "outputId": "4e0a8107-ef87-4d4e-91be-afcbce0ced03"
      },
      "execution_count": 1347,
      "outputs": [
        {
          "output_type": "execute_result",
          "data": {
            "text/plain": [
              "          0  1   2   3  4  5   6   7   8  9  10\n",
              "0    1000025  5   1   1  1  2   1   3   1  1  2\n",
              "1    1002945  5   4   4  5  7  10   3   2  1  2\n",
              "2    1015425  3   1   1  1  2   2   3   1  1  2\n",
              "3    1016277  6   8   8  1  3   4   3   7  1  2\n",
              "4    1017023  4   1   1  3  2   1   3   1  1  2\n",
              "..       ... ..  ..  .. .. ..  ..  ..  .. .. ..\n",
              "694   776715  3   1   1  1  3   2   1   1  1  2\n",
              "695   841769  2   1   1  1  2   1   1   1  1  2\n",
              "696   888820  5  10  10  3  7   3   8  10  2  4\n",
              "697   897471  4   8   6  4  3   4  10   6  1  4\n",
              "698   897471  4   8   8  5  4   5  10   4  1  4\n",
              "\n",
              "[699 rows x 11 columns]"
            ],
            "text/html": [
              "\n",
              "  <div id=\"df-bbecc72b-bfa0-4def-962a-8b2a28f48d42\">\n",
              "    <div class=\"colab-df-container\">\n",
              "      <div>\n",
              "<style scoped>\n",
              "    .dataframe tbody tr th:only-of-type {\n",
              "        vertical-align: middle;\n",
              "    }\n",
              "\n",
              "    .dataframe tbody tr th {\n",
              "        vertical-align: top;\n",
              "    }\n",
              "\n",
              "    .dataframe thead th {\n",
              "        text-align: right;\n",
              "    }\n",
              "</style>\n",
              "<table border=\"1\" class=\"dataframe\">\n",
              "  <thead>\n",
              "    <tr style=\"text-align: right;\">\n",
              "      <th></th>\n",
              "      <th>0</th>\n",
              "      <th>1</th>\n",
              "      <th>2</th>\n",
              "      <th>3</th>\n",
              "      <th>4</th>\n",
              "      <th>5</th>\n",
              "      <th>6</th>\n",
              "      <th>7</th>\n",
              "      <th>8</th>\n",
              "      <th>9</th>\n",
              "      <th>10</th>\n",
              "    </tr>\n",
              "  </thead>\n",
              "  <tbody>\n",
              "    <tr>\n",
              "      <th>0</th>\n",
              "      <td>1000025</td>\n",
              "      <td>5</td>\n",
              "      <td>1</td>\n",
              "      <td>1</td>\n",
              "      <td>1</td>\n",
              "      <td>2</td>\n",
              "      <td>1</td>\n",
              "      <td>3</td>\n",
              "      <td>1</td>\n",
              "      <td>1</td>\n",
              "      <td>2</td>\n",
              "    </tr>\n",
              "    <tr>\n",
              "      <th>1</th>\n",
              "      <td>1002945</td>\n",
              "      <td>5</td>\n",
              "      <td>4</td>\n",
              "      <td>4</td>\n",
              "      <td>5</td>\n",
              "      <td>7</td>\n",
              "      <td>10</td>\n",
              "      <td>3</td>\n",
              "      <td>2</td>\n",
              "      <td>1</td>\n",
              "      <td>2</td>\n",
              "    </tr>\n",
              "    <tr>\n",
              "      <th>2</th>\n",
              "      <td>1015425</td>\n",
              "      <td>3</td>\n",
              "      <td>1</td>\n",
              "      <td>1</td>\n",
              "      <td>1</td>\n",
              "      <td>2</td>\n",
              "      <td>2</td>\n",
              "      <td>3</td>\n",
              "      <td>1</td>\n",
              "      <td>1</td>\n",
              "      <td>2</td>\n",
              "    </tr>\n",
              "    <tr>\n",
              "      <th>3</th>\n",
              "      <td>1016277</td>\n",
              "      <td>6</td>\n",
              "      <td>8</td>\n",
              "      <td>8</td>\n",
              "      <td>1</td>\n",
              "      <td>3</td>\n",
              "      <td>4</td>\n",
              "      <td>3</td>\n",
              "      <td>7</td>\n",
              "      <td>1</td>\n",
              "      <td>2</td>\n",
              "    </tr>\n",
              "    <tr>\n",
              "      <th>4</th>\n",
              "      <td>1017023</td>\n",
              "      <td>4</td>\n",
              "      <td>1</td>\n",
              "      <td>1</td>\n",
              "      <td>3</td>\n",
              "      <td>2</td>\n",
              "      <td>1</td>\n",
              "      <td>3</td>\n",
              "      <td>1</td>\n",
              "      <td>1</td>\n",
              "      <td>2</td>\n",
              "    </tr>\n",
              "    <tr>\n",
              "      <th>...</th>\n",
              "      <td>...</td>\n",
              "      <td>...</td>\n",
              "      <td>...</td>\n",
              "      <td>...</td>\n",
              "      <td>...</td>\n",
              "      <td>...</td>\n",
              "      <td>...</td>\n",
              "      <td>...</td>\n",
              "      <td>...</td>\n",
              "      <td>...</td>\n",
              "      <td>...</td>\n",
              "    </tr>\n",
              "    <tr>\n",
              "      <th>694</th>\n",
              "      <td>776715</td>\n",
              "      <td>3</td>\n",
              "      <td>1</td>\n",
              "      <td>1</td>\n",
              "      <td>1</td>\n",
              "      <td>3</td>\n",
              "      <td>2</td>\n",
              "      <td>1</td>\n",
              "      <td>1</td>\n",
              "      <td>1</td>\n",
              "      <td>2</td>\n",
              "    </tr>\n",
              "    <tr>\n",
              "      <th>695</th>\n",
              "      <td>841769</td>\n",
              "      <td>2</td>\n",
              "      <td>1</td>\n",
              "      <td>1</td>\n",
              "      <td>1</td>\n",
              "      <td>2</td>\n",
              "      <td>1</td>\n",
              "      <td>1</td>\n",
              "      <td>1</td>\n",
              "      <td>1</td>\n",
              "      <td>2</td>\n",
              "    </tr>\n",
              "    <tr>\n",
              "      <th>696</th>\n",
              "      <td>888820</td>\n",
              "      <td>5</td>\n",
              "      <td>10</td>\n",
              "      <td>10</td>\n",
              "      <td>3</td>\n",
              "      <td>7</td>\n",
              "      <td>3</td>\n",
              "      <td>8</td>\n",
              "      <td>10</td>\n",
              "      <td>2</td>\n",
              "      <td>4</td>\n",
              "    </tr>\n",
              "    <tr>\n",
              "      <th>697</th>\n",
              "      <td>897471</td>\n",
              "      <td>4</td>\n",
              "      <td>8</td>\n",
              "      <td>6</td>\n",
              "      <td>4</td>\n",
              "      <td>3</td>\n",
              "      <td>4</td>\n",
              "      <td>10</td>\n",
              "      <td>6</td>\n",
              "      <td>1</td>\n",
              "      <td>4</td>\n",
              "    </tr>\n",
              "    <tr>\n",
              "      <th>698</th>\n",
              "      <td>897471</td>\n",
              "      <td>4</td>\n",
              "      <td>8</td>\n",
              "      <td>8</td>\n",
              "      <td>5</td>\n",
              "      <td>4</td>\n",
              "      <td>5</td>\n",
              "      <td>10</td>\n",
              "      <td>4</td>\n",
              "      <td>1</td>\n",
              "      <td>4</td>\n",
              "    </tr>\n",
              "  </tbody>\n",
              "</table>\n",
              "<p>699 rows × 11 columns</p>\n",
              "</div>\n",
              "      <button class=\"colab-df-convert\" onclick=\"convertToInteractive('df-bbecc72b-bfa0-4def-962a-8b2a28f48d42')\"\n",
              "              title=\"Convert this dataframe to an interactive table.\"\n",
              "              style=\"display:none;\">\n",
              "        \n",
              "  <svg xmlns=\"http://www.w3.org/2000/svg\" height=\"24px\"viewBox=\"0 0 24 24\"\n",
              "       width=\"24px\">\n",
              "    <path d=\"M0 0h24v24H0V0z\" fill=\"none\"/>\n",
              "    <path d=\"M18.56 5.44l.94 2.06.94-2.06 2.06-.94-2.06-.94-.94-2.06-.94 2.06-2.06.94zm-11 1L8.5 8.5l.94-2.06 2.06-.94-2.06-.94L8.5 2.5l-.94 2.06-2.06.94zm10 10l.94 2.06.94-2.06 2.06-.94-2.06-.94-.94-2.06-.94 2.06-2.06.94z\"/><path d=\"M17.41 7.96l-1.37-1.37c-.4-.4-.92-.59-1.43-.59-.52 0-1.04.2-1.43.59L10.3 9.45l-7.72 7.72c-.78.78-.78 2.05 0 2.83L4 21.41c.39.39.9.59 1.41.59.51 0 1.02-.2 1.41-.59l7.78-7.78 2.81-2.81c.8-.78.8-2.07 0-2.86zM5.41 20L4 18.59l7.72-7.72 1.47 1.35L5.41 20z\"/>\n",
              "  </svg>\n",
              "      </button>\n",
              "      \n",
              "  <style>\n",
              "    .colab-df-container {\n",
              "      display:flex;\n",
              "      flex-wrap:wrap;\n",
              "      gap: 12px;\n",
              "    }\n",
              "\n",
              "    .colab-df-convert {\n",
              "      background-color: #E8F0FE;\n",
              "      border: none;\n",
              "      border-radius: 50%;\n",
              "      cursor: pointer;\n",
              "      display: none;\n",
              "      fill: #1967D2;\n",
              "      height: 32px;\n",
              "      padding: 0 0 0 0;\n",
              "      width: 32px;\n",
              "    }\n",
              "\n",
              "    .colab-df-convert:hover {\n",
              "      background-color: #E2EBFA;\n",
              "      box-shadow: 0px 1px 2px rgba(60, 64, 67, 0.3), 0px 1px 3px 1px rgba(60, 64, 67, 0.15);\n",
              "      fill: #174EA6;\n",
              "    }\n",
              "\n",
              "    [theme=dark] .colab-df-convert {\n",
              "      background-color: #3B4455;\n",
              "      fill: #D2E3FC;\n",
              "    }\n",
              "\n",
              "    [theme=dark] .colab-df-convert:hover {\n",
              "      background-color: #434B5C;\n",
              "      box-shadow: 0px 1px 3px 1px rgba(0, 0, 0, 0.15);\n",
              "      filter: drop-shadow(0px 1px 2px rgba(0, 0, 0, 0.3));\n",
              "      fill: #FFFFFF;\n",
              "    }\n",
              "  </style>\n",
              "\n",
              "      <script>\n",
              "        const buttonEl =\n",
              "          document.querySelector('#df-bbecc72b-bfa0-4def-962a-8b2a28f48d42 button.colab-df-convert');\n",
              "        buttonEl.style.display =\n",
              "          google.colab.kernel.accessAllowed ? 'block' : 'none';\n",
              "\n",
              "        async function convertToInteractive(key) {\n",
              "          const element = document.querySelector('#df-bbecc72b-bfa0-4def-962a-8b2a28f48d42');\n",
              "          const dataTable =\n",
              "            await google.colab.kernel.invokeFunction('convertToInteractive',\n",
              "                                                     [key], {});\n",
              "          if (!dataTable) return;\n",
              "\n",
              "          const docLinkHtml = 'Like what you see? Visit the ' +\n",
              "            '<a target=\"_blank\" href=https://colab.research.google.com/notebooks/data_table.ipynb>data table notebook</a>'\n",
              "            + ' to learn more about interactive tables.';\n",
              "          element.innerHTML = '';\n",
              "          dataTable['output_type'] = 'display_data';\n",
              "          await google.colab.output.renderOutput(dataTable, element);\n",
              "          const docLink = document.createElement('div');\n",
              "          docLink.innerHTML = docLinkHtml;\n",
              "          element.appendChild(docLink);\n",
              "        }\n",
              "      </script>\n",
              "    </div>\n",
              "  </div>\n",
              "  "
            ]
          },
          "metadata": {},
          "execution_count": 1347
        }
      ]
    },
    {
      "cell_type": "markdown",
      "source": [
        "Xóa dữ liệu NAN\n",
        "---"
      ],
      "metadata": {
        "id": "pYlfsnjdh43J"
      }
    },
    {
      "cell_type": "code",
      "source": [
        "data = data.dropna()\n",
        "data"
      ],
      "metadata": {
        "colab": {
          "base_uri": "https://localhost:8080/",
          "height": 424
        },
        "id": "Yx6p2ojQ4CMm",
        "outputId": "83740346-2cf4-4cf6-bdf0-7bdb515ab63d"
      },
      "execution_count": 1348,
      "outputs": [
        {
          "output_type": "execute_result",
          "data": {
            "text/plain": [
              "          0  1   2   3  4  5   6   7   8  9  10\n",
              "0    1000025  5   1   1  1  2   1   3   1  1  2\n",
              "1    1002945  5   4   4  5  7  10   3   2  1  2\n",
              "2    1015425  3   1   1  1  2   2   3   1  1  2\n",
              "3    1016277  6   8   8  1  3   4   3   7  1  2\n",
              "4    1017023  4   1   1  3  2   1   3   1  1  2\n",
              "..       ... ..  ..  .. .. ..  ..  ..  .. .. ..\n",
              "694   776715  3   1   1  1  3   2   1   1  1  2\n",
              "695   841769  2   1   1  1  2   1   1   1  1  2\n",
              "696   888820  5  10  10  3  7   3   8  10  2  4\n",
              "697   897471  4   8   6  4  3   4  10   6  1  4\n",
              "698   897471  4   8   8  5  4   5  10   4  1  4\n",
              "\n",
              "[699 rows x 11 columns]"
            ],
            "text/html": [
              "\n",
              "  <div id=\"df-899ce6ff-287d-43c6-ab22-468498575d41\">\n",
              "    <div class=\"colab-df-container\">\n",
              "      <div>\n",
              "<style scoped>\n",
              "    .dataframe tbody tr th:only-of-type {\n",
              "        vertical-align: middle;\n",
              "    }\n",
              "\n",
              "    .dataframe tbody tr th {\n",
              "        vertical-align: top;\n",
              "    }\n",
              "\n",
              "    .dataframe thead th {\n",
              "        text-align: right;\n",
              "    }\n",
              "</style>\n",
              "<table border=\"1\" class=\"dataframe\">\n",
              "  <thead>\n",
              "    <tr style=\"text-align: right;\">\n",
              "      <th></th>\n",
              "      <th>0</th>\n",
              "      <th>1</th>\n",
              "      <th>2</th>\n",
              "      <th>3</th>\n",
              "      <th>4</th>\n",
              "      <th>5</th>\n",
              "      <th>6</th>\n",
              "      <th>7</th>\n",
              "      <th>8</th>\n",
              "      <th>9</th>\n",
              "      <th>10</th>\n",
              "    </tr>\n",
              "  </thead>\n",
              "  <tbody>\n",
              "    <tr>\n",
              "      <th>0</th>\n",
              "      <td>1000025</td>\n",
              "      <td>5</td>\n",
              "      <td>1</td>\n",
              "      <td>1</td>\n",
              "      <td>1</td>\n",
              "      <td>2</td>\n",
              "      <td>1</td>\n",
              "      <td>3</td>\n",
              "      <td>1</td>\n",
              "      <td>1</td>\n",
              "      <td>2</td>\n",
              "    </tr>\n",
              "    <tr>\n",
              "      <th>1</th>\n",
              "      <td>1002945</td>\n",
              "      <td>5</td>\n",
              "      <td>4</td>\n",
              "      <td>4</td>\n",
              "      <td>5</td>\n",
              "      <td>7</td>\n",
              "      <td>10</td>\n",
              "      <td>3</td>\n",
              "      <td>2</td>\n",
              "      <td>1</td>\n",
              "      <td>2</td>\n",
              "    </tr>\n",
              "    <tr>\n",
              "      <th>2</th>\n",
              "      <td>1015425</td>\n",
              "      <td>3</td>\n",
              "      <td>1</td>\n",
              "      <td>1</td>\n",
              "      <td>1</td>\n",
              "      <td>2</td>\n",
              "      <td>2</td>\n",
              "      <td>3</td>\n",
              "      <td>1</td>\n",
              "      <td>1</td>\n",
              "      <td>2</td>\n",
              "    </tr>\n",
              "    <tr>\n",
              "      <th>3</th>\n",
              "      <td>1016277</td>\n",
              "      <td>6</td>\n",
              "      <td>8</td>\n",
              "      <td>8</td>\n",
              "      <td>1</td>\n",
              "      <td>3</td>\n",
              "      <td>4</td>\n",
              "      <td>3</td>\n",
              "      <td>7</td>\n",
              "      <td>1</td>\n",
              "      <td>2</td>\n",
              "    </tr>\n",
              "    <tr>\n",
              "      <th>4</th>\n",
              "      <td>1017023</td>\n",
              "      <td>4</td>\n",
              "      <td>1</td>\n",
              "      <td>1</td>\n",
              "      <td>3</td>\n",
              "      <td>2</td>\n",
              "      <td>1</td>\n",
              "      <td>3</td>\n",
              "      <td>1</td>\n",
              "      <td>1</td>\n",
              "      <td>2</td>\n",
              "    </tr>\n",
              "    <tr>\n",
              "      <th>...</th>\n",
              "      <td>...</td>\n",
              "      <td>...</td>\n",
              "      <td>...</td>\n",
              "      <td>...</td>\n",
              "      <td>...</td>\n",
              "      <td>...</td>\n",
              "      <td>...</td>\n",
              "      <td>...</td>\n",
              "      <td>...</td>\n",
              "      <td>...</td>\n",
              "      <td>...</td>\n",
              "    </tr>\n",
              "    <tr>\n",
              "      <th>694</th>\n",
              "      <td>776715</td>\n",
              "      <td>3</td>\n",
              "      <td>1</td>\n",
              "      <td>1</td>\n",
              "      <td>1</td>\n",
              "      <td>3</td>\n",
              "      <td>2</td>\n",
              "      <td>1</td>\n",
              "      <td>1</td>\n",
              "      <td>1</td>\n",
              "      <td>2</td>\n",
              "    </tr>\n",
              "    <tr>\n",
              "      <th>695</th>\n",
              "      <td>841769</td>\n",
              "      <td>2</td>\n",
              "      <td>1</td>\n",
              "      <td>1</td>\n",
              "      <td>1</td>\n",
              "      <td>2</td>\n",
              "      <td>1</td>\n",
              "      <td>1</td>\n",
              "      <td>1</td>\n",
              "      <td>1</td>\n",
              "      <td>2</td>\n",
              "    </tr>\n",
              "    <tr>\n",
              "      <th>696</th>\n",
              "      <td>888820</td>\n",
              "      <td>5</td>\n",
              "      <td>10</td>\n",
              "      <td>10</td>\n",
              "      <td>3</td>\n",
              "      <td>7</td>\n",
              "      <td>3</td>\n",
              "      <td>8</td>\n",
              "      <td>10</td>\n",
              "      <td>2</td>\n",
              "      <td>4</td>\n",
              "    </tr>\n",
              "    <tr>\n",
              "      <th>697</th>\n",
              "      <td>897471</td>\n",
              "      <td>4</td>\n",
              "      <td>8</td>\n",
              "      <td>6</td>\n",
              "      <td>4</td>\n",
              "      <td>3</td>\n",
              "      <td>4</td>\n",
              "      <td>10</td>\n",
              "      <td>6</td>\n",
              "      <td>1</td>\n",
              "      <td>4</td>\n",
              "    </tr>\n",
              "    <tr>\n",
              "      <th>698</th>\n",
              "      <td>897471</td>\n",
              "      <td>4</td>\n",
              "      <td>8</td>\n",
              "      <td>8</td>\n",
              "      <td>5</td>\n",
              "      <td>4</td>\n",
              "      <td>5</td>\n",
              "      <td>10</td>\n",
              "      <td>4</td>\n",
              "      <td>1</td>\n",
              "      <td>4</td>\n",
              "    </tr>\n",
              "  </tbody>\n",
              "</table>\n",
              "<p>699 rows × 11 columns</p>\n",
              "</div>\n",
              "      <button class=\"colab-df-convert\" onclick=\"convertToInteractive('df-899ce6ff-287d-43c6-ab22-468498575d41')\"\n",
              "              title=\"Convert this dataframe to an interactive table.\"\n",
              "              style=\"display:none;\">\n",
              "        \n",
              "  <svg xmlns=\"http://www.w3.org/2000/svg\" height=\"24px\"viewBox=\"0 0 24 24\"\n",
              "       width=\"24px\">\n",
              "    <path d=\"M0 0h24v24H0V0z\" fill=\"none\"/>\n",
              "    <path d=\"M18.56 5.44l.94 2.06.94-2.06 2.06-.94-2.06-.94-.94-2.06-.94 2.06-2.06.94zm-11 1L8.5 8.5l.94-2.06 2.06-.94-2.06-.94L8.5 2.5l-.94 2.06-2.06.94zm10 10l.94 2.06.94-2.06 2.06-.94-2.06-.94-.94-2.06-.94 2.06-2.06.94z\"/><path d=\"M17.41 7.96l-1.37-1.37c-.4-.4-.92-.59-1.43-.59-.52 0-1.04.2-1.43.59L10.3 9.45l-7.72 7.72c-.78.78-.78 2.05 0 2.83L4 21.41c.39.39.9.59 1.41.59.51 0 1.02-.2 1.41-.59l7.78-7.78 2.81-2.81c.8-.78.8-2.07 0-2.86zM5.41 20L4 18.59l7.72-7.72 1.47 1.35L5.41 20z\"/>\n",
              "  </svg>\n",
              "      </button>\n",
              "      \n",
              "  <style>\n",
              "    .colab-df-container {\n",
              "      display:flex;\n",
              "      flex-wrap:wrap;\n",
              "      gap: 12px;\n",
              "    }\n",
              "\n",
              "    .colab-df-convert {\n",
              "      background-color: #E8F0FE;\n",
              "      border: none;\n",
              "      border-radius: 50%;\n",
              "      cursor: pointer;\n",
              "      display: none;\n",
              "      fill: #1967D2;\n",
              "      height: 32px;\n",
              "      padding: 0 0 0 0;\n",
              "      width: 32px;\n",
              "    }\n",
              "\n",
              "    .colab-df-convert:hover {\n",
              "      background-color: #E2EBFA;\n",
              "      box-shadow: 0px 1px 2px rgba(60, 64, 67, 0.3), 0px 1px 3px 1px rgba(60, 64, 67, 0.15);\n",
              "      fill: #174EA6;\n",
              "    }\n",
              "\n",
              "    [theme=dark] .colab-df-convert {\n",
              "      background-color: #3B4455;\n",
              "      fill: #D2E3FC;\n",
              "    }\n",
              "\n",
              "    [theme=dark] .colab-df-convert:hover {\n",
              "      background-color: #434B5C;\n",
              "      box-shadow: 0px 1px 3px 1px rgba(0, 0, 0, 0.15);\n",
              "      filter: drop-shadow(0px 1px 2px rgba(0, 0, 0, 0.3));\n",
              "      fill: #FFFFFF;\n",
              "    }\n",
              "  </style>\n",
              "\n",
              "      <script>\n",
              "        const buttonEl =\n",
              "          document.querySelector('#df-899ce6ff-287d-43c6-ab22-468498575d41 button.colab-df-convert');\n",
              "        buttonEl.style.display =\n",
              "          google.colab.kernel.accessAllowed ? 'block' : 'none';\n",
              "\n",
              "        async function convertToInteractive(key) {\n",
              "          const element = document.querySelector('#df-899ce6ff-287d-43c6-ab22-468498575d41');\n",
              "          const dataTable =\n",
              "            await google.colab.kernel.invokeFunction('convertToInteractive',\n",
              "                                                     [key], {});\n",
              "          if (!dataTable) return;\n",
              "\n",
              "          const docLinkHtml = 'Like what you see? Visit the ' +\n",
              "            '<a target=\"_blank\" href=https://colab.research.google.com/notebooks/data_table.ipynb>data table notebook</a>'\n",
              "            + ' to learn more about interactive tables.';\n",
              "          element.innerHTML = '';\n",
              "          dataTable['output_type'] = 'display_data';\n",
              "          await google.colab.output.renderOutput(dataTable, element);\n",
              "          const docLink = document.createElement('div');\n",
              "          docLink.innerHTML = docLinkHtml;\n",
              "          element.appendChild(docLink);\n",
              "        }\n",
              "      </script>\n",
              "    </div>\n",
              "  </div>\n",
              "  "
            ]
          },
          "metadata": {},
          "execution_count": 1348
        }
      ]
    },
    {
      "cell_type": "code",
      "source": [
        "data=np.array(data)\n",
        "x= data[:,:-1]\n",
        "y= data[:,-1]"
      ],
      "metadata": {
        "id": "sboAV6tn4pNC"
      },
      "execution_count": 1349,
      "outputs": []
    },
    {
      "cell_type": "markdown",
      "source": [
        "![image.png](data:image/png;base64,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)"
      ],
      "metadata": {
        "id": "VpuL_ClRhz09"
      }
    },
    {
      "cell_type": "code",
      "source": [
        "count = [list(y).count(\"2\"),list(y).count(\"4\")]\n",
        "lable = [\"2\",\"4\"]\n",
        "plt.bar(lable,count)\n",
        "plt.xlabel(\"so lan suat hien cua 2 va 4\")\n",
        "plt.ylabel(\"count\")"
      ],
      "metadata": {
        "colab": {
          "base_uri": "https://localhost:8080/",
          "height": 297
        },
        "id": "GT7lDV8n93v3",
        "outputId": "fef37345-c5c9-4b5d-98bd-d4ac109bcd12"
      },
      "execution_count": 1350,
      "outputs": [
        {
          "output_type": "execute_result",
          "data": {
            "text/plain": [
              "Text(0, 0.5, 'count')"
            ]
          },
          "metadata": {},
          "execution_count": 1350
        },
        {
          "output_type": "display_data",
          "data": {
            "text/plain": [
              "<Figure size 432x288 with 1 Axes>"
            ],
            "image/png": "[encoded data removed]"
          },
          "metadata": {
            "needs_background": "light"
          }
        }
      ]
    },
    {
      "cell_type": "markdown",
      "source": [
        "nhãn lớp không có cân bằng\n",
        "---"
      ],
      "metadata": {
        "id": "x2xZbsZ41Mlh"
      }
    },
    {
      "cell_type": "code",
      "source": [
        "from sklearn.model_selection import train_test_split\n",
        "from sklearn import preprocessing"
      ],
      "metadata": {
        "id": "dqJCOMipDpe5"
      },
      "execution_count": 1351,
      "outputs": []
    },
    {
      "cell_type": "code",
      "source": [
        "n=0\n",
        "for x in range(data.shape[0]):\n",
        "  for y in range(data.shape[1]):\n",
        "    if not data[x-n][y]== '?':\n",
        "      data[x-n][y]=float(data[x-n][y])\n",
        "    else:\n",
        "      data=np.delete(data,obj=x-n,axis=0)\n",
        "      n+=1"
      ],
      "metadata": {
        "id": "buhXQczQhNu7"
      },
      "execution_count": 1352,
      "outputs": []
    },
    {
      "cell_type": "markdown",
      "source": [
        "![image.png](data:image/png;base64,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)"
      ],
      "metadata": {
        "id": "m8J3ndzPn2SP"
      }
    },
    {
      "cell_type": "code",
      "source": [
        "data =preprocessing.MinMaxScaler().fit_transform(data)\n",
        "X, y = data[:,:-1], data[:, -1]\n",
        "X_train, X_test, y_train, y_test = train_test_split(X, y,test_size=0.200000000000000000,random_state=15)"
      ],
      "metadata": {
        "id": "78j8gr6BI995"
      },
      "execution_count": 1353,
      "outputs": []
    },
    {
      "cell_type": "code",
      "source": [
        ">>> from sklearn import datasets, linear_model\n",
        ">>> from sklearn.model_selection import cross_val_score"
      ],
      "metadata": {
        "id": "tB7U3fGEoBsX"
      },
      "execution_count": 1354,
      "outputs": []
    },
    {
      "cell_type": "markdown",
      "source": [
        "![image.png](data:image/png;base64,iVBORw0KGgoAAAANSUhEUgAAAoMAAAA9CAYAAADWMWOiAAAAAXNSR0IArs4c6QAAAARnQU1BAACxjwv8YQUAAAAJcEhZcwAADsMAAA7DAcdvqGQAACV/SURBVHhe7d0HnGRFtcfxQnKOS845CSiwkiWDJAkqAgIuAgoioiCCCDwwgkrGgKKwSBbJICI5KwjIkpPknDMsvOe37OJdhum+tzfMzjDn9/n0Z2dud99b99Spc/51qu7seP/7H1IQBEEQBEGXvPnmm+mss85KQ4YMSauuumoaf/zxW+/0T0aOHJmuueaaNGLEiPSxj30sDR06NH3iE5/IPw9mQgwGQRAEQRAMYga3FA6CIAiCIBjkhBgMgiAIgiAYxIQYDIIgCIIgGMSEGAyCIAiCIBjEhBgMgiAIgiAYxIQYDIIgCIIgGMT0mz8tM+LJ1g9B8BFn8ZlbPwRBEARBPyAqg0EQBEEQBIOYEIODkMsuuyxttNFG6YYbbmgdCYLgo8wjjzySFl988TTffPOl66+/vnU0CILgv4QYHITcfPPNaeedd06f+tSnWkeCIPgoc8stt6QXX3wxHXHEEWm55ZZrHQ2CIPgvA3bP4HvvvZf/7Y//n+C4bJtrd7ru22+/ne6///60yCKLtI4EfU3sGQz6mt///vdpyimnTJ///OdbR4LBxrvvvjtG/9/gMX2+vqQuTw5Gxv+f/9D6uTH/+Mc/0p577pl+/etfp2effTb/J88TTDBB691R4+lXU7rpppvSySefnK677rpeX2a300wzTTrzzDPTwQcfnGabbbY055xzts7wYS6//PJ0zjnnpJlnnjl/b2zzxBNPpN/97nd59r3kkkum6aefvvXOh/n73/+efvCDH6RZZ501zTLLLK2jowbHtvR70EEHpTvvvDOtuOKKrXc+zPPPP58uuOCC9OSTT6YFFlggjTfeeK13+hZtvv3229Ott96app122jTppJO23mmG7993333poosuSqeeemqaccYZ86vg/b/85S/p9NNPz77Dzq5Tx8svv5xOOumkdN5556VLL70022iqqaZqvfv/OP+VV16Z/vznP+drzD777B+4Ph544IH8Hp/2n7kvtNBC+fiMU+R/OvLggw+mI488Mh122GHpmGOOyUt7jt11111p7rnnzsec1z3+61//SvPOO29O9trlP43/7W9/m33MNaeYosEFe+Gll17KY4hPzT///P0yeD7zzDNpm222Sb/61a/yEuhcc83Vemf0YcOddtopPffcc2mllVZqHa2Hv4mNhx9+eJpooonSoosu2nqnGY8//ni+9tFHH53/Q/011lhjtGx/1VVXpUMPPTT348orr5ymnnrq1jujx2233ZbtLt499dRTY2ylgU9vu+22OU6tvvrqafLJJ2+9M2bRT65j3BrnAwFj+w9/+EPOezPMMEPraGesBO29997pkEMOSeuvv/6H4sEdd9yRvvSlL2UfW2KJJVpH21N3vm7QB+KoONVJQ4ypWPTYY4+ln/zkJ+k73/lO+vSnP52GDBnSeifo2qIc57jjjkvrrLNOri7tu+++OWGNCUaMGJFFwQYbbJBWW221LHBeffXVtMkmm6ShQ4emu+++O7322mvZYS15dOLhhx/OotFemWOPPTZXxMY2gorAT1DUcfXVV+f7WGqppVpHRh0Dw3kIjpEjR7aOfhhCgTh59NFHs5Bg74L3JNa+QjslPQJav3bDO++8k+3H7wQkorKn8HZ/EvLmm2+eJwM/+9nP0uuvv956t3eefvrptMcee+TJzmc/+9ncvnZ+xuauef7556d///vfvQZm1yXivGaaaabW0c7w97322itPJm688ca03377pXPPPTf7irFmNm5iIxlIxETDxz/+8fcnFNpFLBo7a665Zm7DqOL++dQll1ySg3F/RF+518997nMdJ0G9IUYQeu3Ycsstc5Ii+F944YXW0XoI0rPPPjuLMJOQbtFn9957bzrxxBNzX4/ORFu83nXXXfN9mDyZcI8p+JkEbQyYmI8J9KcxyP/FJ4JzTGDc8OcqxKs8Y+I3ELjnnnvyeOcbP/rRj9Jbb73Veqcz8rT40C4vyVlyrDjTKX8U6s7XFHY3dsXoiSeeuHW0d8ZULDKxF4sVsYIP0rUYVEn68Y9/nGfjEix1rQIxJhBEzVAELpUWQdCsQ9XDjPZrX/tammyyydJ0002XZ9ztIGwIDEFFtcweGRWVsY2SuepTXfB+5ZVX8v0NGzZslGc4PTHb762CVUXyW3DBBXNF8qc//Wm2URHJBJVg0FfoP/2imtNtRWHCCSdMq6yySlp33XWz/czqq1U51UbLYosttliaZ5550htvvJGrap3ErmQh0LKJfiG+/G7TfTsIWZMTNu1thknYEZOCj/usg+DYYostctV7rbXWymJA1V1lZIcddshLfKXKxH7u3Xt8qaA///SnP+U+Xn755VtHRw1BX7vZw5jrj6gs7LPPPnkPbDdjib9/4xvfyP3XDrZV9SK2CammSJL6XQVDLOsW8UvyM567qUj2xORGjD7ggANyJfmb3/xmruqMKawyqLQQBmNiUutcqqlev/zlL7PfWQ0aExCZihhV+IsKkTjRaVLQH+ATbME2JvRrr712Y2E/ySST1Ir17bffPldhxbQ6mpyvDsLWZHarrbZqNNkZU7HI6ol8IYcEH6RrJaJTyjIDg5q5SlxjglVXXbWjoHFtibe6tGmQmCn4t2CQa5Mk7D2ioWf5W5XIdyTPdjMcos1spBuqbVPBIgh6IsloX7vtmtpEGFTvqY6ey73aLrh6laqGmbxqkXtSfSAuiIqHHnooCxCflYS6qaKyY7lHPxNezlHOwwYCjN+9V0UQILa6SeJVStVg2WWXfX/vimv+8Y9/zG1aYYUVso0JPPfcrp99loCyPCXIEXZV21sCM4MlMqvHJRi/q1pX74E9r7322iw4fJff1gUwYvSHP/xhXhrThgMPPDAHrgJbmSiV5SxVAd9xvLrEbgnJ5El1vSnuv4gi5zRpsMRN0BBChLbfiYsqfGxUk6h+UjljQ+dQXS0Q7RdffPH7/ct/S3uq6FdiSYJg8ybVO/2lIrHxxhtnn5DYQOxpDztcccUV2Saleq1qog/hO9qsfe7BmOE3VVEpSbOVSY746PPdPMHL/u5d9Zf4t7px4YUXfuAaTWyk31TO+YhzWtL76le/mm3gZe8wW2irset8PtcU2xOsMvCROeaYI5+THU0qtc/v7KdvShXL76qVcD9/+9vfsqgEvzd2TRL1AZFmEoQmdm8HP9lll12yffhZ8W9tEf8IEnnCcfZgaxgLfBz+7W1lwT3yX5/thuq53Vv1Pvze05fFly984Qt54sdeqtbiW1Oq+UFf9Dw/HzERrVaytc/99fb5uvPVQQiaRPTc1uGa7t859XPpq56xiE+ZrHczSdN/2qntXj1jHeQqv1djXRM/gHO0e28gMFplKQlPELDvYlxgMJvZWdIz2ItD6jD7bY466qi8h+/LX/5y3v8FAWz33XfPe4Es/xgAn/nMZ9JvfvOb7PjgYLZSClQqi5ZZLNcJPk3xZ1s23XTTvN/n29/+9vvOJeH4/bTTTsttJsI4PTq1u1ssJah8CG6lJE6cmFlaPhVMVD1ck8gRjAww99wkwUsCBIu2qhRr6/7775/PY4mMTwj6xCA/EXAFeOi3733ve7kd7l/Al/C6QfB2fpOHavXOff/zn//MS7iSiaSkKmji0m5f4hlnnJHtTqwKBvYgwsBmL1VU71m+lVzB19jTxKhcX9BQfeCTrkuYuf+eYrE3nMvSNh+sio8qqvBlOZzP+KxkVma59hNJFE3Ho0rDbrvtlpfbVRoIBfdleVrl1T4z1yAaiKevf/3r+XsS6he/+MU8JviYz3YTlI0F37d9g3DyfTYCMWyJkHCRxNl0xx13TAsvvHDeHwrH9AOf4rObbbZZFsm2hdTB3/i+e1IlO+WUU3JVhL3tL2YPtvCz+9W39hiZVPDbDTfcMLd1+PDhecnKz4Q3EVNwXLJxX6pyBKtl7KarE9pF7CyzzDI5XhFHrss/0MRGUDVV7eFbthi4FzGHL5t4uGf3a3w4v60/3i/xqA4TJEnbNfiJeyVexTcJ3XlVp73PZ8RSk3mrSmKM+GuiLn6A+FbBVOUlnokf/dXU7r3hXsQfE0G2Enf5jJiuTxzXVmPA6hMhKy4Zx6ry9sZbYVKV8nLPBW3h/+6D7bSXL3XCPZ5wwgl5AqtSy7f0JZHnmlY0XNfv4o2+BaEhZnqp+ptouG63iM36RN7WX/rNyp4xxF+NTX5jvCscyIvaR6iL7z5fpbfz1SHW8+HqyoVY6/xsz08US1QPvcQ9sQjax85WCY0H+aoOOYnd+Dq/105+wbadYp3PNPEDEzL5T8XW99Zbb73s4/aeDyRGSQwyLoP6W3UGr4Da1+hIVRcDgyCh5gVRHWrGIEjpfIlZwPn5z3+exYMKoYDkAQr7FLT9K1/5ShZ6HE2gFBjMWCRlg5vz+o6g1gTBhQgwsAVhSZcwcG6BgHNJvJKZzbMESF27u4EgEDBd23UkSuKEs2699dY5WHtJnoKu66gUSg6cuOw/awfBIIAbpAaJAUakaLsKmL1bpeJiWd8Mtrpp3eyeQCXIBVOJodu9TPpbwlQ9EYgKkqcArzomgBEp+lWFpt0DJMSBPjE7FjS++93vZv/iB0TBsGHDcvKxZcEeKUh0rs9PyjKtvVNEfAmsAr/rlqXdTugvPsleJid14pGttZEPE4P6UdKT5NxHHRKsvuMP3//+97O/8Qe+JhCXB7O0g5ghrAvEsrbqd0LZz8UudQj6/JtgtwmdgCnjC5ZV3Q9/NFbZ2GRFRaAsRQqyEgcBJAnzBf5HPNUhibgX/aJv2ct5VZYJOMKJ/xsLlnkhaanSqpqorvss+2gXgWXsliq/mKSC5RzaXra1dPNHG0wAndMWB8mKTarXaGIjSVSCcg73KCapdlp9sTLhc+5XbJBQ3aO+5rN1vgcxgL+xI7FqvEuS2qmCw1bisdimjd7bbrvtctv1tzYbI/rMuOLLJpf2wvEP53WM7ZrYvR0mS8a37y299NLZ54k+YqxgBUnMcj2xyhgW+/WdeGLiQiTwUTEd7o3vm3iZzIoRCgBySSeMTUUCk1gxRKwgJox5MZXf8EEiUW4iXN0n28gf8oFJvNyhX/lHU8RcPuI7tlYYR/pHbNMPfAR8gQBUNTOBZoPyeUWAQrvz1cE35ahqFdKYYT/j09jWZ3yc6K3Gd+3is0U88qk62Mu9eCDvF7/4RV4R09d8o1Os836dH9BCRCK/5gdyroKEdurngcQoiUHBxE1LfgImQdbXCAwSuI4ymAUUwU5iIrAE8xLUiBY/l4QlsEseAgCHE6gEwRIwJUqOAALCi6Aox+oQGDmV5UazBDMsAczAUpU0o5d0zcAMdDOQJu1uAmElSBF47FMQcMyMy9Nonsoy29aX3WImaTCXipg2lopVEwQ+A8hAIgwN7BKImsKe+kpSqz7NZtBKEAK//iI6CCd+KpAJWOVF/DiHoCboSkB8AZ7itFwkkREsBKZX6RvX0X6Dng/qv+OPPz4nL33PPs4riRGldQiQ2s1nXK8ONgMx6L7sL+RbTfuTTxXRDLNhyUmCrsNytYqp76u0sGFpTx0EmIqGjfuCOrv7blny4qdlaV2QJjgEcoKa8DY2VYsIIT5ukuP6gnG5l06YHAjWPlsEqCSk3/iJmGacEDTGI/sWm+hTEzs2lkwkB3HBRKckEIncPYkx2us8xc51kywYv9rj+65hcz0/4ptlvNXZyPf0T6ngim0+7xxlf67vmLAWccKGvkcUNJlMsGGxI9uDvcQzfcuXrUq4NgHqnASQB63YmZjUVn0oHv71r3/Nky/i3uckbt/ja03sPibQ12KuMSiGux7RyCb6g79qizawrdUJ+QNEt+P6ug55wLnFGj4oTpUJCmEtxrgWW1q54U/GjXaU+KMQIweK501h+yL6+Yq8I4ahZ/yW84wx+Uv7+B5/qY7zTufrhFjpXNW4rS/5NREoLxJ5ZTLWG0SovqrLyeLF8OHD8wqd/oW2tlsl6kmdH/ABcbOcm+94icmlIDJQGCUxCA7AEShtHTsuMcPVHoFHkDGAOGZBB3JuQRU+X6X8LoBxSgNU8HEO5xK8qsKqG7RLoChiR1C0X8KSkQRoQLtuk3Y3wXk8hUfMCCYF5zAAlNjNYs1gVQdLEu4Gicd9NUkavaEdyuxmvp/85Ce7rpywkdmoQOD7BcctpxBnkrAEpx8FbNUAS0qWF8tLgIXBLAmbgQqA/Nl7+p2Pu47+MvAlsOr1iU4IYCoehJykr9KpLcRqk8Bj1g/+p/11lM/zK5vtLe+ZFDVFsBK4q2NX0GuCzxF0ZtyEkus26T/21Af8UnD2L/HFjvoHnhL3Ob8bD5Zvyu+CqwoqsSYwq8jyc3Y2sasml3aYyBgjRBG/IyYlIRAxxpvAzscdV70g+OG6xKTrEGn6m+8Y30XA2wai3XzJcrP7kUC1X9/W4RqqD3xGwtcOYkBiLNeosxGhUvaeSmLazH+dQyLzHecQe/SDe1RZ1q9NJgPweXY0PtjR+DHxco+uSRgSKn4vAtQ4ZFvjx9g0ISaAjFWVFnYiFExqxCcTDYm1id3HBj3zhHhXYiohzl4qWlAREzscb0LPc4un1THkdzjGR/l4dcLMbmxD7IwK5XoEDdrlxEK1Pb3R83ydYEPnr15DnOQD7EjkyVEE1+iiAs03R0eY9bRF1Q+IaG0vY7L0U9Nx1J8YZTFYkBzLMll/QDA3SFVaChyUo5aqTyckprJfQKWHKBCYOOioQkQIFJzbXkQCwmy8KhJGt90FAd/yqwciqvspzOIkCRWtglmsQNstJYkK3L1RBk8ZMD2xD0WCszeoSbWkJwKgpUEipDp7NBnwcq8qJiWRCtASlJK/Zajy+ta3vpUTjCopcSWxEGLsQix5z3cJJuJVwFPFqF6/9A27ul8zaMGA7flS00mEhMhuBJqg0hOVnao9ywxdW/lnqc40hVhhm+pfAuB7RK12uNd2/Wd5ht9YJlb5bIp7IEoIBHYltogGYkQFlkBQFWN3AsK2BhUgv5c/G2Pfqf4gBtmA4CAwmgRfvkFMCuaqTtCP7GB8lmtA5bkscZbKLtsYy5aZCES/sz/fkpj1nfbxobK/UpLwe9P4Qdy6hvjAd1TwXMOkTYxoYiOTQW0nlvgoYWi8Wg40dolN/acaZc90qfIZM00qbexoKZu4K3Yk1gg0lUJChZDzuWoFlk/pK8cJUu2y35uoLMLQipM+NTb9jjq7jwolobcTN3WIFWK5ezCx5C/2l5UlxzGJKphqqWsUSm4o1eKBhH4VY6rilr/yd/6vKmzblj3FPmfS0i4W1aGgoq+reQ9s51UX6+rgz5b3xWx7Ha26WTI3kRtodC0GBTwBqcDIAnNBMLTnygAfHXSOV29Vx9KRXlV8XlC3LMupBCeYSZoZmPmjXcc7n/dUrMyYJVn7AOwV5DBNEexK5UYQtr/E0gabqNARhYKh6hEnKqKqrt2dqNpEaZ9osexi2QqCKNtY0j/hhBOyuFGhdL8GmwFjBmUm5dUJCdLnVYXNjFVDqiJW4NIOSck5LQUL3u5dApd83T8/EuDYxfvVc3SCiHBeiUagLEi6RI6EJzmq3rk/+z4JRAnVMlR5uQ/+xYfdjxkeBAi/s71zSZTaaXmbL2inPiREBTFtL2OC0CF49Lu2ub7P1EGolv1U7FXw/bKXr+qD/Ms9qgqpCHUL8SRxqSiqLPIJ2wtM7ExS2ItQ5Js21RPM7pnwICTMgN03f3XMe9Vk1RtsLQGwrReh5BxFcBHvhIpJETFtQubz3mNfYtJ1IKGo+hLtJhRsQ9h1wvf5JAGhX7XXObTB2KsKCz7t+irPZTsBAcQn7DPSL9rvPiw7GQfGLTsRP4SK+yGS2LRMTDohFhiX/NjDEeII+0o4RJ33mtjI2GJr5zG2VOyMcXYmLlX12NF4cF7xSX+akLCPc3ZCfDAGfVc/8E12JNhcky/xfWOdWPFeqRhpt5+Jcv5OsLKle3Vd7YCJq4k4P6+zex3unXBlGz7ixWeMNfHR+LclhB3LJKvkAv9WKTHWd+2dNam0wmJPX1NhVs7Rk3bXMk4JYcKTf4FfsbW40YRyLz2v4Xj5t/peEZs96fn5dufrhOo0P6iueOkHfqOf7HNXVdfHJRaZAJRYJL7SIXymDpNVsW748OE5rrov8ctYEZf5RrtYxxfdX0/boNy781khsfeTCPRQnZ+dd6DRtRjk+AawDvO0k4HJAAWGNNBHRwwKBAQZZ9FJBkERVzpJkPCvzpWYy8MfhKjv2m8gaRM+EpylKBuHVSB8XjWCI/ie3+1XIS787l+Oouph5m0Ph0Th++0qYVUEOPuvzG4ECjMFopJDEirOpRzuQQVJw8zF/i0CqlO7OyGIarskIUirHKgCCGwclL0MPjNZlSzX9+CPJR4VGo7rusSTzdN1y1kGsz1/+sBDAAZntXrpPlU2zJT5iOqxYypq+ol9tJVI4yeSED+qw/XYxMA2CAkBfVmdYRqIBq/KKLtqnz5sBx+TpCWvsuREKBDTkrPr6UNPHnrIQrWPXV1DYpZ09R0hyY6ervOe9rk355Y06yBs3ZfZsQ307Kc6onra24TA+T34YdlsVCAe3JexzBfNwlWU9ZP7sFQn4ag28XuTCe0wHvkp0WBvJNHLvuxUBzsQJGzuenxA37k3gV9wJeoEegLKJNP7xqS+933X1D6+5T1xwfsSel1VRvLQX8QS32BzYsu1q1VBFFEgphCEhISxRUSonhURBonMxIAwYQ9CkD/xH/2kfYS7cdAJvuIa7oOdSnv5E18Xj5rYyJh2fe2RRJ3HOcRL5xaf2bBUK8U759UfBDEf7wSbu392JPSM/dKuMr5LfxKKzul64EPlsyZkMEklatwHfxa7TGTFJzGjzu51aIu4QEyLrZb2XJudVCZNhviVyqunsfWhbRBEg/jiGLEoRrkfkwP3LncQgO6NMCM86vbP8wffd0/6Rm5zXueXu+xlNrYII+2wrULfGqNiglwiJogVcozxW4eig/vhQ57A1WennXZa9ml51hjwPlv7XbuIIv6oPSZNjvu83/lPp/PV5X5tNqZKoaJgJU5FnbBmS3GGbWkNE3KTF9coY0POY89O8DdFCxVs+xHlOfclzrELX24X64x9eaSTHxjjJkGKRoSsscPf+Zv8MJDo+v8mNhA5h0FJzDRJdE3o9v8mHlu4PzM+AV3nSgoGPoHFgey5Cz6MUrmBJIgL9OMSSVGgEnSI7U6olKhkEyTEcrXtKiACm8AkmRckaMFJEiMcIShJpo4RhwKrBNzbFopO/zex7zi3yYqxRXhLZj3RtiaJu79RBDJRQgBIfAIsAQCBVyWMzYstBOYipCQB3/G75C0hSxhNt1LoIwlAVamTnxrzJjk+ZyLVG/zdiyDorY8gafBBsWNUcH6iQDuKoKqzEdwn2MX3+Ytz9OYvYh5xIp7XTQQL7M7nTX7ZUT5wDuLMOZxTYcDv1TFowkG4ExPV3KFfTVp9z6pMp7zSxO5jG31gOZsPqywT54SwZXvCKOgMIUfMyrXV2DrQoA/cB5FpTIobKoomXmJ32S4yEOhaDI4t+osYFKRUP1T1SvCF6qHkQyQGH6Y/icE6JFBLesSUmbc+N3s0I+wLOonBwQJBYNmPgDHjNraCjyaWs403S53ihD+L0nOsqcA4rqJJKDTZuziuIFg95Ww7jupVwXHxz2pI0BkTCVVUgkm/j2tUO1VdrTiUfbBNsP/dd1VMqxMTIld+IRIHCv07a48DdKDK57Bhw/KGUHuyLMeZ/ZUnR4MPYmCbDZkdC4j9HRUfSw/+0LTlQssulqqDvsMylOViIrBd5S0Y+Kic2PLi78dZkrXdordJl0qxyqQlwG7+TNW4wGTXFgNbZfx5Llun7L217aXJg0zBf/dx2gIlBjTZIjS2sWXC3lTbBbrBdhvL7LY0qAJaciZurU6NzkOn44KoDPYC4We/jf0JNkiPzlNrgwFLrZaqIKgbUJbY+yuWtDwgYK+Hvh3VJbxRZbBXBlUFVQMtDUoK/MV+oOCjicm1l4diyraKjwImlWKfpUEVLhUleweD7rDlwAqBZdaBiK0vqoO2JpnIlD/XNNAIMRgEfUwsEwdBEAT9iX4jBoMgCIIgCIK+J/YMBkEQBEEQDGJCDAZBEARBEAxiQgwGQRAEQRAMYkIMBkEQBEEQDGJCDAZBEARBEAxiQgwGQRAEQRAMYkIMBkEQBEEQDGJCDAZBEARBEAxiQgwGQRAEQRAMYkIMBkEQBEEQDGLiv6PrY2677bZ0xhln5P+s339svuuuu7beGXhccMEF6Z133kkbbrhh+tjHYl4RBEEQBAORyOB9zNxzz50uv/zydP7556fZZputdXRgst5666XHHnssHXXUUem9995rHQ2CIAiCYCARYrCPef7557OAmmWWWdJSSy3VOjpw2XrrrbO4veSSS1pHgiAIgiAYSIz/P/+h9XO/4tVXX01XXXVVuvPOO9Oss86aJppoonz8vvvuS7fffnuaYYYZ0nXXXZf/Le+99tpr6Yorrkh33HFHmnnmmdMkk0ySj6ta3XjjjemGG25I7777bnrmmWfSNNNMk8Ybb7xej48//vj5e+14++23080335ymnHLKNPHEE+efn3766XzNwt13351uuummNN1006Unn3wyH5t00knzPR177LFp+eWXTzvssEPttdq1vXyvnZ3Qzh4jR47MtrPE6/vaWq1Suqbl7Kuvvjq3edppp23bjskmmywL3OOPPz5tsskmacIJJ2ydJQiCIAiCgUC/rAyefvrpaa211koPPPBA3l9HNBFb22+/fVpkkUXSOeeck3bbbbe09tprv1+ROvXUU9Maa6yRHn/88XTooYfmnx955JEsYvbdd9+01VZb5X1t3tt9993bHq+D8FLRW3nlldOVV16ZRdF2222Xhg0blp577rkslA455JB83oceeihtttlmaYEFFkhnnnlm/v5ll12W3nrrrbT66qt/QLj1Rl0be7MToYp29rj11lvT0KFD8xLvtddem/9V3SsQe5tvvnl+b6+99kpbbLFFFnud2rH44otngW4fZBAEQRAEA4t+JwZPPvnktNNOO6VddtklrbPOOnkJ8uWXX05TTz11FmEqYip6xIel1jnnnPN9IUTYbLvttmn++efP1TpijUA777zz0ptvvpnmm2++dOCBB6Y111wzvfLKK70erxNoROD666+fv0dYqQ7OM888aYIJJshC6aSTTkr7779/2nHHHXP7CbXpp58+LbPMMumFF17IIktFbbnllmudsT3t2q6N7ezkeaBO9lh44YXTkCFDsu2uv/76LDjnnXfefL1LL700bbrppmnFFVdMq6yySnrjjTfSVFNNVWsr5yKCVQ6DIAiCIBhY9Csx+PDDDyer1qp/G220UV66PPHEE9MxxxyTl2NVrSy7qqx5AMPy5owzzpgOOOCALMpU4VTGVMAIM0uWjhOMju28885ZSBJQ7Y43YbHFFsufv//++/PS6wYbbJDFEfF08MEH5yXZddddN1cNLcMutNBCWXDde++9+eVnx+po18ZOdnr22Wc72sOSNYE6xRRTpCWWWCIvB5977rnpqaeeSnvssUcWfxtvvHE67LDD3q9MzjTTTB1tZSnZcrFKaBAEQRAEA4t+JQYvvvjiLLBUpogZVUB764gdwopwwWqrrZb3sRGIKlaqhEsuuWSugD366KPprrvuytU4gotYI5zmmGOOvAeOuCGM2h1vgmsTVtr04osvpnvuuSdX6SxZE6iqgLPPPnu65ppr8vvuh/hSiVMddE9EbR3t2tjJTnX28PMTTzyR22OJ2XdVNf2ZmBEjRuSf995773x/KoUqoXW2cg6v119/vXUkCIIgCIKBQr8Sg8Se5cbqgxgF1SyVJ+8RQYVbbrklV7BWWGGFLA7tySOALJ2q4BE4Sy+9dP7zJ5ZnL7roovx+u+NNIMAskar6HX744bmSRih5WMNDGcQgYXTWWWflNlly9dAGcUVk+fuCTWjXxk52qrOHpVwPljhvWR4Goart9g9agj766KPzkjLqbOV7KpCWn4MgCIIgGFj0KzFoXyAIFuKCoPKQhAcYiBx74izHVkWHqpVly7nmmiuLM3v2iJj99tsvn+OII47IItJSrqVbFTH76no7brmzCZZEVdBU51Qpy/4/7QTBpL0Ek/10qmie3iXiLLl63xO+nXDv7drYyU6d7EEkEn3ErH2PVZwHHtSBc9p76Pp1tnrppZfy0r1l5yAIgiAIBhb9Sgza42Zp85RTTskPi2yzzTb5jzRbUrXkSoBVq4LYcsstc1XOHkIPbvjs2WefnR90IB495GF/mz99Ynl0zz33TJNPPnmvxwm3JmjHoosumsWSql9hpZVWysulxx13XH7Ywh5CD4F4ytbSMsHlYQxCUfs60a7t2tjJTp3sYb+gZWJ/gqZU/Qq+Zyn5yCOPzOf0FLHzqC7W2erBBx/M31122WVbR4IgCIIgGCj0u/+Ojlginvz9QH+Spck+PvvwiBx75jzoUCDILIkSaN63LOqBk3bHm6KNhB0BVMVSsCVVVTniz15C1yjCz++Wd+3dq7uvujZ2slM7e9ShKqiNzrngggvmczaxlQdP3O8+++zTOhIEQRAEwUAh/m/iYLTwx679XcWDDjqo0UMxQRAEQRD0L0IMtvCUrGXXdqiU+bMqlohHl7681tjEn7ixJ9Efo7akHARBEATBwCPEYAv7+C688MLWbx/G0q//mcNy6ejSl9cam6gKWja2rzAIgiAIgoFJiMEgCIIgCIJBTL96mjgIgiAIgiDoW0IMBkEQBEEQDGJCDAZBEARBEAxiQgwGQRAEQRAMYkIMBkEQBEEQDFpS+j9CRrQCq1xrZwAAAABJRU5ErkJggg==)"
      ],
      "metadata": {
        "id": "Oa43VADGoQ1-"
      }
    },
    {
      "cell_type": "markdown",
      "source": [
        "Thông báo kết quả 10-fold CV của quá trình huấn luyện từng mô hình (sử dụng cross_val_scores) LOGISTIC\n",
        "---"
      ],
      "metadata": {
        "id": "LvgfC21ZiJ-M"
      }
    },
    {
      "cell_type": "code",
      "source": [
        "from sklearn.linear_model import LogisticRegression"
      ],
      "metadata": {
        "id": "xUjH8Kbio_om"
      },
      "execution_count": 1355,
      "outputs": []
    },
    {
      "cell_type": "code",
      "source": [
        "model = LogisticRegression(solver='liblinear', max_iter=1500, multi_class='auto')"
      ],
      "metadata": {
        "id": "LtqpWalio5Qi"
      },
      "execution_count": 1356,
      "outputs": []
    },
    {
      "cell_type": "code",
      "source": [
        "lasso = linear_model.Lasso()\n",
        "hlmh=cross_val_score(lasso, X_train, y_train,cv=10)\n",
        "print(\"mô hình dự đoán của logistic\",hlmh)"
      ],
      "metadata": {
        "colab": {
          "base_uri": "https://localhost:8080/"
        },
        "id": "9U5fHuGZn8yW",
        "outputId": "b94acf6d-dfd1-4d9c-daa7-336abc3e8f3c"
      },
      "execution_count": 1357,
      "outputs": [
        {
          "output_type": "stream",
          "name": "stdout",
          "text": [
            "mô hình dự đoán của logistic [-0.00057903 -0.00433183 -0.00433183 -0.04235598 -0.00433183 -0.01174093\n",
            " -0.00654569 -0.0023644  -0.0089235  -0.01495708]\n"
          ]
        }
      ]
    },
    {
      "cell_type": "markdown",
      "source": [
        "Thông báo kết quả 10-fold CV của quá trình huấn luyện từng mô hình (sử dụng cross_val_scores) K_NN\n",
        "---"
      ],
      "metadata": {
        "id": "IsqkiB1yiaFx"
      }
    },
    {
      "cell_type": "code",
      "source": [
        "from sklearn.neighbors import KNeighborsClassifier\n",
        "from sklearn.model_selection import GridSearchCV\n",
        "from sklearn.neighbors import KNeighborsRegressor\n",
        "kNN = KNeighborsClassifier(n_neighbors=5)\n",
        "kNN.fit(X_train, y_train)"
      ],
      "metadata": {
        "colab": {
          "base_uri": "https://localhost:8080/"
        },
        "id": "N7zhAemAiih0",
        "outputId": "6d3f21be-4ea5-41ce-b7ec-de5eed23acf3"
      },
      "execution_count": 1358,
      "outputs": [
        {
          "output_type": "execute_result",
          "data": {
            "text/plain": [
              "KNeighborsClassifier()"
            ]
          },
          "metadata": {},
          "execution_count": 1358
        }
      ]
    },
    {
      "cell_type": "code",
      "source": [
        "KNN = KNeighborsRegressor()\n",
        "scores_knn = cross_val_score(KNN, X_train, y_train, cv = 10)\n",
        "print(\"kết qua dự đoán của knn\\n\",scores_knn)"
      ],
      "metadata": {
        "colab": {
          "base_uri": "https://localhost:8080/"
        },
        "id": "zwyqwF6_irqi",
        "outputId": "7459727a-28e7-4350-993a-dd920ea5fa9e"
      },
      "execution_count": 1359,
      "outputs": [
        {
          "output_type": "stream",
          "name": "stdout",
          "text": [
            "kết qua dự đoán của knn\n",
            " [0.97748538 0.824      0.81771429 0.93867596 0.80828571 0.80961538\n",
            " 0.96823529 0.96565978 0.86144737 0.82233766]\n"
          ]
        }
      ]
    },
    {
      "cell_type": "markdown",
      "source": [
        "Thông báo kết quả 10-fold CV của quá trình huấn luyện từng mô hình (sử dụng cross_val_scores) NAIVE\n",
        "---"
      ],
      "metadata": {
        "id": "zKDsKtpPi093"
      }
    },
    {
      "cell_type": "code",
      "source": [
        "from sklearn.naive_bayes import GaussianNB\n",
        "gnb_model = GaussianNB()\n",
        "gnb_model.fit(X_train, y_train)\n",
        "scores = cross_val_score(gnb_model, X_train, y_train, cv = 10,scoring='accuracy')\n",
        "print(\"kết qua dự đoán của NAIVE\",scores)"
      ],
      "metadata": {
        "colab": {
          "base_uri": "https://localhost:8080/"
        },
        "id": "kWWTYpTgi4w6",
        "outputId": "d9af1975-e6a2-49b9-e598-c051ead12148"
      },
      "execution_count": 1360,
      "outputs": [
        {
          "output_type": "stream",
          "name": "stdout",
          "text": [
            "kết qua dự đoán của NAIVE [0.98181818 0.96363636 0.96363636 0.96363636 0.94545455 0.96363636\n",
            " 1.         0.98148148 0.96296296 0.96296296]\n"
          ]
        }
      ]
    },
    {
      "cell_type": "markdown",
      "source": [
        "![image.png](data:image/png;base64,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)\n",
        "![image.png](data:image/png;base64,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)"
      ],
      "metadata": {
        "id": "A9eAu3UojJtX"
      }
    },
    {
      "cell_type": "markdown",
      "source": [
        "Mô Hình logistic\n",
        "---"
      ],
      "metadata": {
        "id": "YZbK2XzPkUAO"
      }
    },
    {
      "cell_type": "code",
      "source": [
        "from sklearn.model_selection import cross_val_predict\n",
        "y_hat = cross_val_predict(model, X_test, y_test, cv=10)\n",
        "print(\"y du doan cua logistic\",y_hat)"
      ],
      "metadata": {
        "colab": {
          "base_uri": "https://localhost:8080/"
        },
        "id": "shFEuc4_jWrg",
        "outputId": "a0fa7494-b1d2-4e3e-8d61-6ca939d57567"
      },
      "execution_count": 1361,
      "outputs": [
        {
          "output_type": "stream",
          "name": "stdout",
          "text": [
            "y du doan cua logistic [1. 1. 0. 1. 0. 0. 0. 1. 0. 0. 0. 0. 0. 0. 1. 0. 0. 1. 1. 1. 1. 1. 0. 0.\n",
            " 1. 1. 1. 1. 0. 1. 1. 0. 1. 1. 0. 0. 0. 0. 0. 1. 0. 0. 0. 1. 0. 1. 1. 1.\n",
            " 1. 0. 0. 0. 0. 1. 0. 0. 0. 0. 1. 1. 0. 0. 0. 0. 0. 1. 1. 0. 1. 1. 0. 0.\n",
            " 1. 1. 0. 1. 0. 0. 1. 0. 0. 0. 0. 0. 0. 0. 0. 1. 0. 1. 0. 0. 0. 0. 1. 0.\n",
            " 0. 0. 1. 0. 1. 1. 0. 0. 0. 0. 1. 1. 0. 1. 0. 1. 0. 0. 1. 1. 1. 0. 0. 0.\n",
            " 0. 1. 0. 1. 0. 1. 0. 0. 0. 1. 0. 0. 1. 1. 1. 1. 0.]\n"
          ]
        }
      ]
    },
    {
      "cell_type": "code",
      "source": [
        "from sklearn.metrics import accuracy_score,precision_score,recall_score,f1_score\n",
        "ac=accuracy_score(y_hat, y_test)\n",
        "print('Hiệu năng mô hình acc cua logistic : ', accuracy_score(y_hat, y_test))\n",
        "ps=precision_score(y_test, y_hat,average='macro')\n",
        "print(\"Hiệu năng mô hình precision cua logistic\",ps)\n",
        "rs =recall_score(y_test, y_hat, average='macro')\n",
        "print(\"Hiệu năng mô hình recall cua logistic\",rs)\n",
        "f1= 2*(ps*rs)/(ps+rs)\n",
        "print(\"Hiệu năng mô hình f1 cua logistic\",f1)\n",
        "f1_score(y_test, y_hat, average='macro')"
      ],
      "metadata": {
        "id": "p7C8rjw8te49",
        "colab": {
          "base_uri": "https://localhost:8080/"
        },
        "outputId": "c11e8372-fa6c-4208-f763-379df4b57651"
      },
      "execution_count": 1362,
      "outputs": [
        {
          "output_type": "stream",
          "name": "stdout",
          "text": [
            "Hiệu năng mô hình acc cua logistic :  0.9562043795620438\n",
            "Hiệu năng mô hình precision cua logistic 0.9546957671957672\n",
            "Hiệu năng mô hình recall cua logistic 0.9546957671957672\n",
            "Hiệu năng mô hình f1 cua logistic 0.9546957671957672\n"
          ]
        },
        {
          "output_type": "execute_result",
          "data": {
            "text/plain": [
              "0.9546957671957672"
            ]
          },
          "metadata": {},
          "execution_count": 1362
        }
      ]
    },
    {
      "cell_type": "code",
      "source": [
        "coun=[ac,ps,rs,f1]\n",
        "sticker=(\"acc logistic\",\"precision logistic\",\"recall logistic\",\"f1 logistic\")\n",
        "plt.bar(sticker,coun,color=\"pink\")\n",
        "plt.xlabel(\"cac độ đo\")"
      ],
      "metadata": {
        "colab": {
          "base_uri": "https://localhost:8080/",
          "height": 301
        },
        "id": "vYAbIg_OwhX7",
        "outputId": "0c3d328a-79b4-4c8c-8b9b-badff86d2c69"
      },
      "execution_count": 1363,
      "outputs": [
        {
          "output_type": "execute_result",
          "data": {
            "text/plain": [
              "Text(0.5, 0, 'cac độ đo')"
            ]
          },
          "metadata": {},
          "execution_count": 1363
        },
        {
          "output_type": "display_data",
          "data": {
            "text/plain": [
              "<Figure size 432x288 with 1 Axes>"
            ],
            "image/png": "[encoded data removed]"
          },
          "metadata": {
            "needs_background": "light"
          }
        }
      ]
    },
    {
      "cell_type": "markdown",
      "source": [
        "K- lân cận\n",
        "---"
      ],
      "metadata": {
        "id": "5-fBaf2vjsFK"
      }
    },
    {
      "cell_type": "code",
      "source": [
        "from sklearn.neighbors import KNeighborsClassifier\n",
        "from sklearn.model_selection import GridSearchCV\n",
        "from sklearn.neighbors import KNeighborsRegressor\n",
        "kNN = KNeighborsClassifier(n_neighbors=5)\n",
        "kNN.fit(X_train, y_train)\n",
        "y_hat_KNN = kNN.predict(X_test)\n",
        "print(\"y dự đoán của K lân cận\\n\",y_hat_KNN)"
      ],
      "metadata": {
        "colab": {
          "base_uri": "https://localhost:8080/"
        },
        "id": "3Tpcp_SQjTWZ",
        "outputId": "1531f0cd-98b0-42b6-e6e8-1ce5a162ef07"
      },
      "execution_count": 1364,
      "outputs": [
        {
          "output_type": "stream",
          "name": "stdout",
          "text": [
            "y dự đoán của K lân cận\n",
            " [1. 1. 0. 1. 0. 0. 0. 1. 0. 0. 0. 0. 0. 0. 1. 0. 0. 1. 1. 1. 1. 1. 0. 0.\n",
            " 1. 1. 1. 1. 0. 1. 1. 0. 1. 1. 0. 0. 0. 0. 0. 1. 0. 0. 0. 1. 0. 1. 1. 1.\n",
            " 1. 0. 0. 0. 0. 1. 0. 0. 0. 0. 1. 1. 0. 0. 0. 0. 0. 1. 1. 0. 1. 1. 1. 0.\n",
            " 1. 1. 0. 1. 0. 0. 0. 0. 0. 0. 0. 0. 0. 0. 0. 1. 0. 1. 0. 0. 0. 0. 1. 0.\n",
            " 0. 0. 1. 0. 1. 1. 0. 0. 0. 0. 1. 1. 0. 1. 0. 1. 0. 0. 1. 1. 1. 0. 0. 0.\n",
            " 0. 1. 0. 1. 0. 1. 0. 0. 0. 1. 0. 0. 1. 0. 1. 1. 0.]\n"
          ]
        }
      ]
    },
    {
      "cell_type": "code",
      "source": [
        "ac_KNN=accuracy_score(y_hat_KNN, y_test)\n",
        "print(\"Hiệu năng mô hình acc cua K lân cận\",ac_KNN)\n",
        "ps_KNN=precision_score(y_test, y_hat_KNN,average='macro')\n",
        "print(\"Hiệu năng mô hình precision cua K lân cận\",ps_KNN)\n",
        "rs_KNN =recall_score(y_test, y_hat_KNN, average='macro')\n",
        "print(\"Hiệu năng mô hình recall cua K lân cận\",rs_KNN)\n",
        "f1_KNN= 2*(ps_KNN*rs_KNN)/(ps_KNN+rs_KNN)\n",
        "print(\"Hiệu năng mô hình f1 cua K lân cận\",f1_KNN)\n",
        "f1_score(y_test, y_hat_KNN, average='macro')"
      ],
      "metadata": {
        "colab": {
          "base_uri": "https://localhost:8080/"
        },
        "id": "C5FTbpCRjxR6",
        "outputId": "fa53d905-57b6-4e79-e8f2-e9b9bc806686"
      },
      "execution_count": 1365,
      "outputs": [
        {
          "output_type": "stream",
          "name": "stdout",
          "text": [
            "Hiệu năng mô hình acc cua K lân cận 0.9635036496350365\n",
            "Hiệu năng mô hình precision cua K lân cận 0.9635254988913525\n",
            "Hiệu năng mô hình recall cua K lân cận 0.9608686067019401\n",
            "Hiệu năng mô hình f1 cua K lân cận 0.9621952186931002\n"
          ]
        },
        {
          "output_type": "execute_result",
          "data": {
            "text/plain": [
              "0.962140054164594"
            ]
          },
          "metadata": {},
          "execution_count": 1365
        }
      ]
    },
    {
      "cell_type": "code",
      "source": [
        "coun1=[ac_KNN,ps_KNN,rs_KNN,f1_KNN]\n",
        "sticker1=(\"accuracy_KNN\",\"precision_KNN\",\"recall_KNN\",\"f1_KNN\")\n",
        "plt.bar(sticker1,coun1, width=0.8,color=\"lightblue\")\n",
        "plt.xlabel(\"cac độ đo tai KNN\")"
      ],
      "metadata": {
        "colab": {
          "base_uri": "https://localhost:8080/",
          "height": 300
        },
        "id": "iovC_qLkmJ2r",
        "outputId": "3c26e1bb-9130-4315-fb11-39a7f82c3b26"
      },
      "execution_count": 1366,
      "outputs": [
        {
          "output_type": "execute_result",
          "data": {
            "text/plain": [
              "Text(0.5, 0, 'cac độ đo tai KNN')"
            ]
          },
          "metadata": {},
          "execution_count": 1366
        },
        {
          "output_type": "display_data",
          "data": {
            "text/plain": [
              "<Figure size 432x288 with 1 Axes>"
            ],
            "image/png": "[encoded data removed]"
          },
          "metadata": {
            "needs_background": "light"
          }
        }
      ]
    },
    {
      "cell_type": "markdown",
      "source": [
        "Ngây thơ\n",
        "---"
      ],
      "metadata": {
        "id": "_KqKvPHxqqrt"
      }
    },
    {
      "cell_type": "code",
      "source": [
        "from sklearn.naive_bayes import GaussianNB\n",
        "gnb_model = GaussianNB()\n",
        "gnb_model.fit(X_train, y_train)\n",
        "y_hat_nv = gnb_model.predict(X_test)\n",
        "print(\"y dự ddoasnd của Naive\\n\",y_hat_nv)"
      ],
      "metadata": {
        "colab": {
          "base_uri": "https://localhost:8080/"
        },
        "id": "22FPeYmwq3z4",
        "outputId": "466508f1-b9d6-4295-bc32-19b33497cbb1"
      },
      "execution_count": 1367,
      "outputs": [
        {
          "output_type": "stream",
          "name": "stdout",
          "text": [
            "y dự ddoasnd của Naive\n",
            " [1. 1. 0. 1. 0. 0. 0. 1. 0. 0. 0. 0. 0. 1. 1. 0. 0. 1. 1. 1. 1. 1. 0. 0.\n",
            " 1. 1. 1. 1. 0. 1. 1. 0. 1. 1. 0. 0. 0. 0. 0. 1. 0. 0. 0. 1. 0. 1. 1. 1.\n",
            " 1. 0. 0. 0. 0. 1. 0. 0. 0. 0. 1. 1. 0. 0. 0. 0. 0. 1. 1. 0. 1. 1. 1. 0.\n",
            " 1. 1. 0. 1. 0. 0. 1. 0. 0. 0. 0. 0. 0. 0. 1. 1. 0. 1. 0. 0. 0. 1. 1. 0.\n",
            " 0. 0. 1. 0. 1. 1. 0. 0. 0. 0. 1. 1. 0. 1. 0. 1. 0. 0. 1. 1. 1. 0. 0. 0.\n",
            " 0. 1. 1. 1. 0. 1. 0. 0. 0. 1. 0. 0. 1. 1. 1. 1. 0.]\n"
          ]
        }
      ]
    },
    {
      "cell_type": "code",
      "source": [
        "ac_nv=accuracy_score(y_hat_nv, y_test)\n",
        "print(\"Hiệu năng mô hình acc cua NAIVE\",ac_nv)\n",
        "ps_nv=precision_score(y_test, y_hat_nv,average='weighted')\n",
        "print(\"Hiệu năng mô hình precision cua NAIVE\",ps_nv)\n",
        "rs_nv =recall_score(y_test, y_hat_nv, average='weighted')\n",
        "print(\"Hiệu năng mô hình recall cua NAIVE\",rs_nv)\n",
        "#f1_nv= 2*(ps_nv*rs_nv)/(ps_nv+rs_nv)\n",
        "f1_nv=f1_score(y_test, y_hat_KNN, average='weighted')\n",
        "print(\"Hiệu năng mô hình f1 cua NAIVE\",f1_nv)"
      ],
      "metadata": {
        "colab": {
          "base_uri": "https://localhost:8080/"
        },
        "id": "XQ8o4Bq2rAto",
        "outputId": "2c7c8683-26a7-453a-9492-5530bafaa3a4"
      },
      "execution_count": 1368,
      "outputs": [
        {
          "output_type": "stream",
          "name": "stdout",
          "text": [
            "Hiệu năng mô hình acc cua NAIVE 0.9343065693430657\n",
            "Hiệu năng mô hình precision cua NAIVE 0.9375342448498895\n",
            "Hiệu năng mô hình recall cua NAIVE 0.9343065693430657\n",
            "Hiệu năng mô hình f1 cua NAIVE 0.9634512036554042\n"
          ]
        }
      ]
    },
    {
      "cell_type": "code",
      "source": [
        "coun2=[ac_nv,ps_nv,rs_nv,f1_nv]\n",
        "sticker1=(\"accuracy_score_NAIVE\",\"precision_score_NAIVE\",\"recall_score_NAIVE\",\"f1_NAIVE\")\n",
        "plt.bar(sticker1,coun1, width=0.8,color = 'darkgreen')\n",
        "plt.xlabel(\"cac độ đo tai KNN\")"
      ],
      "metadata": {
        "colab": {
          "base_uri": "https://localhost:8080/",
          "height": 300
        },
        "id": "JavFWl1Irt4i",
        "outputId": "95beb681-4cf8-4221-ac53-3add48bb49ea"
      },
      "execution_count": 1369,
      "outputs": [
        {
          "output_type": "execute_result",
          "data": {
            "text/plain": [
              "Text(0.5, 0, 'cac độ đo tai KNN')"
            ]
          },
          "metadata": {},
          "execution_count": 1369
        },
        {
          "output_type": "display_data",
          "data": {
            "text/plain": [
              "<Figure size 432x288 with 1 Axes>"
            ],
            "image/png": "[encoded data removed]"
          },
          "metadata": {
            "needs_background": "light"
          }
        }
      ]
    },
    {
      "cell_type": "markdown",
      "source": [
        "so sanh kết quả 3 mô hình\n",
        "---"
      ],
      "metadata": {
        "id": "8yGEJ7ZZxMqU"
      }
    },
    {
      "cell_type": "code",
      "source": [
        "from matplotlib.projections.polar import mpatches\n",
        "f, ax = plt.subplots(figsize=(20,6)) # set the size that you'd like (width, height)\n",
        "my_colors= ['blue','darkred', 'pink']\n",
        "labels = ['logis','k lân cận','naive']\n",
        "counss=[ac,ac_KNN,ac_nv]\n",
        "counss2=[ps,ps_KNN,ps_nv]\n",
        "counss3=[rs,ps_KNN,rs_nv]\n",
        "countss4=[f1,f1_KNN,f1_nv]\n",
        "stickerss=(\"accuracy logistic\",\"accuracy_KNN\",\"accuracy_NAIVE\")\n",
        "stickerss2=(\"precision logistic\",\"precision_KNN\",\"precision_NAIVE\")\n",
        "stickerss3=(\"recall logistic\",\"recall_KNN\",\"recall_NAIVE\")\n",
        "stickerss4=(\"f1 logistic\",\"f1_KNN\",\"f1_NAIVE\")\n",
        "plt.bar(stickerss,counss , label = 'accuracy_score',color=my_colors)\n",
        "plt.bar(stickerss2,counss2, label = 'precision_score',color=my_colors)\n",
        "plt.bar(stickerss3,counss3, label = 'recall_score',color=my_colors)\n",
        "plt.bar(stickerss4,countss4, label = 'f1 bar',color=my_colors)\n",
        "logistic = mpatches.Patch(color='Blue', label='Logistic')\n",
        "KNN = mpatches.Patch(color='darkred', label='K NN')\n",
        "NAIVE = mpatches.Patch(color='pink', label='NAIVE')\n",
        "\n",
        "ax.legend(fontsize = 15,handles=[logistic,KNN,NAIVE],loc=4)"
      ],
      "metadata": {
        "colab": {
          "base_uri": "https://localhost:8080/",
          "height": 393
        },
        "id": "pAuGho9VuUrf",
        "outputId": "e3b5fbcd-9a93-4bab-9343-c9cf070db555"
      },
      "execution_count": 1370,
      "outputs": [
        {
          "output_type": "execute_result",
          "data": {
            "text/plain": [
              "<matplotlib.legend.Legend at 0x7fc5b3848610>"
            ]
          },
          "metadata": {},
          "execution_count": 1370
        },
        {
          "output_type": "display_data",
          "data": {
            "text/plain": [
              "<Figure size 1440x432 with 1 Axes>"
            ],
            "image/png": "[encoded data removed]"
          },
          "metadata": {
            "needs_background": "light"
          }
        }
      ]
    },
    {
      "cell_type": "markdown",
      "source": [
        "Đánh giá hiệu năng của từng mô hình\n",
        "---"
      ],
      "metadata": {
        "id": "iVC-5l33RMhi"
      }
    },
    {
      "cell_type": "code",
      "source": [
        "counss=[ac,ac_KNN,ac_nv]\n",
        "label = ['ac','ac_KNN','ac_nv']\n",
        "for i in range(len(counss)):\n",
        "  if counss[i] == max(counss):\n",
        "    print(\"như vậy ta thấy mô hinh accuracy_score la \",label[i],\"lớn nhất la bằng\",counss[i])\n",
        "counss2=[ps,ps_KNN,ps_nv]\n",
        "label2=[\"ps\",\"ps_KNN\",\"ps_nv\"]\n",
        "for i in range(len(counss2)):\n",
        "  if counss2[i] == max(counss2):\n",
        "    print(\"như vậy ta thấy mô hinh precision_score la\",label2[i],\"lớn nhất la bằng\",counss2[i])    \n",
        "counss3=[rs,ps_KNN,rs_nv]\n",
        "label3=[\"rs\",\"ps_KNN\",\"rs_nv\"]\n",
        "for i in range(len(counss3)):\n",
        "  if counss3[i] == max(counss3):\n",
        "    print(\"như vậy ta thấy mô hinh recall_score la\",label3[i],\"lớn nhất la bằng\",counss3[i]) \n",
        "countss4=[f1,f1_KNN,f1_nv]\n",
        "label4=[\"f1\",\"f1_KNN\",\"f1_nv\"]\n",
        "for i in range(len(countss4)):\n",
        "  if countss4[i] == max(countss4):\n",
        "    print(\"như vậy ta thấy mô hinh f1 la\",label4[i],\"lớn nhất la bằng\",countss4[i])    \n"
      ],
      "metadata": {
        "colab": {
          "base_uri": "https://localhost:8080/"
        },
        "id": "g2JjP5iqFv5d",
        "outputId": "77b30b38-943e-44df-95a3-2b81d7ecf6dd"
      },
      "execution_count": 1371,
      "outputs": [
        {
          "output_type": "stream",
          "name": "stdout",
          "text": [
            "như vậy ta thấy mô hinh accuracy_score  ac_KNN lớn nhất la bằng 0.9635036496350365\n",
            "như vậy ta thấy mô hinh precision_score  ps_KNN lớn nhất la bằng 0.9635254988913525\n",
            "như vậy ta thấy mô hinh recall_score ps_KNN lớn nhất la bằng 0.9635254988913525\n",
            "như vậy ta thấy mô hinh f1 f1_nv lớn nhất la bằng 0.9634512036554042\n"
          ]
        }
      ]
    },
    {
      "cell_type": "markdown",
      "source": [
        "sử dụng tập dữ liệu wine cho đa nhãn lớp\n",
        " ----"
      ],
      "metadata": {
        "id": "QSY-1lvByg44"
      }
    },
    {
      "cell_type": "code",
      "source": [
        "data=pd.read_csv(\"/content/Wine.csv\")\n",
        "data=np.array(data)\n",
        "X= data[:,1:]\n",
        "y = data[:,0]"
      ],
      "metadata": {
        "id": "QpdmMOKUygM0"
      },
      "execution_count": 1372,
      "outputs": []
    },
    {
      "cell_type": "code",
      "source": [
        "unique, counts = np.unique(y, return_counts=True)\n",
        "result = dict(zip(unique, counts))\n",
        "lis=[\"1\",\"2\",\"3\"]\n",
        "count=[counts[0],counts[1],counts[2]]\n",
        "plt.bar(lis,count)\n",
        "plt.xlabel(\"số lần suất hiện của 1,2,3\")\n",
        "plt.show()\n"
      ],
      "metadata": {
        "colab": {
          "base_uri": "https://localhost:8080/",
          "height": 280
        },
        "id": "wxgChItv0al7",
        "outputId": "5efff4d8-a032-4515-e2c3-31dd0179be87"
      },
      "execution_count": 1373,
      "outputs": [
        {
          "output_type": "display_data",
          "data": {
            "text/plain": [
              "<Figure size 432x288 with 1 Axes>"
            ],
            "image/png": "[encoded data removed]"
          },
          "metadata": {
            "needs_background": "light"
          }
        }
      ]
    },
    {
      "cell_type": "markdown",
      "source": [
        "ta thấy 3 nhãn lớp này không cân bằng \n",
        "---\n"
      ],
      "metadata": {
        "id": "u_XuXyJ3PumF"
      }
    },
    {
      "cell_type": "code",
      "source": [
        "X= data[:,1:]\n",
        "X =preprocessing.MinMaxScaler().fit_transform(X)\n",
        "y = data[:,0]\n",
        "X_train, X_test, y_train, y_test = train_test_split(X, y,test_size=0.200000000000000000,random_state=15)"
      ],
      "metadata": {
        "id": "fCOE-9V53UNc"
      },
      "execution_count": 1374,
      "outputs": []
    },
    {
      "cell_type": "code",
      "source": [
        "model = LogisticRegression(solver='liblinear', max_iter=1500, multi_class='auto')"
      ],
      "metadata": {
        "id": "_ctHH7sX3sFS"
      },
      "execution_count": 1375,
      "outputs": []
    },
    {
      "cell_type": "markdown",
      "source": [
        "![image.png](data:image/png;base64,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)"
      ],
      "metadata": {
        "id": "VEotcyMk4U2z"
      }
    },
    {
      "cell_type": "code",
      "source": [
        "lasso = linear_model.Lasso()\n",
        "hlmh=cross_val_score(lasso, X_train, y_train,cv=10)\n",
        "print(\"mô hình dự đoán của logistic\",hlmh)"
      ],
      "metadata": {
        "colab": {
          "base_uri": "https://localhost:8080/"
        },
        "id": "8p3kPBN_3_8x",
        "outputId": "7e141692-2baa-42ad-aefa-5978dd1f9bc7"
      },
      "execution_count": 1376,
      "outputs": [
        {
          "output_type": "stream",
          "name": "stdout",
          "text": [
            "mô hình dự đoán của logistic [-2.70755068e-04 -7.46919141e-03 -5.56243381e-02 -1.31285263e-02\n",
            " -1.08020835e-04 -1.26976254e-02 -1.09129403e-01 -2.85477186e-01\n",
            " -1.86369303e-01 -1.76424267e-01]\n"
          ]
        }
      ]
    },
    {
      "cell_type": "markdown",
      "source": [
        "Thông báo kết quả 10-fold CV của quá trình huấn luyện từng mô hình (sử dụng cross_val_scores) K_NN\n",
        "---"
      ],
      "metadata": {
        "id": "3txQy5jA4zU9"
      }
    },
    {
      "cell_type": "code",
      "source": [
        "KNN = KNeighborsRegressor()\n",
        "scores_knn = cross_val_score(KNN, X_train, y_train, cv = 10)\n",
        "print(\"kết qua dự đoán của knn\\n\",scores_knn)"
      ],
      "metadata": {
        "colab": {
          "base_uri": "https://localhost:8080/"
        },
        "id": "V1EhXW4D4z1e",
        "outputId": "2cabe9e6-8511-4953-8550-8e3a724e0add"
      },
      "execution_count": 1377,
      "outputs": [
        {
          "output_type": "stream",
          "name": "stdout",
          "text": [
            "kết qua dự đoán của knn\n",
            " [0.86567164 0.99588235 0.93649485 0.805      0.8614433  0.986\n",
            " 0.97925926 0.98384615 0.99445545 0.97606838]\n"
          ]
        }
      ]
    },
    {
      "cell_type": "markdown",
      "source": [
        "Thông báo kết quả 10-fold CV của quá trình huấn luyện từng mô hình (sử dụng cross_val_scores) NAIVE\n",
        "---\n"
      ],
      "metadata": {
        "id": "NKRH3zqp8T0F"
      }
    },
    {
      "cell_type": "code",
      "source": [
        "gnb_model = GaussianNB()\n",
        "gnb_model.fit(X_train, y_train)\n",
        "scores = cross_val_score(gnb_model, X_train, y_train, cv = 10,scoring='accuracy')\n",
        "print(\"kết qua dự đoán của NAIVE\",scores)"
      ],
      "metadata": {
        "colab": {
          "base_uri": "https://localhost:8080/"
        },
        "id": "je9OvfT48UYx",
        "outputId": "6e1af39b-30fc-4ab8-aff1-6b87a3ea58ba"
      },
      "execution_count": 1378,
      "outputs": [
        {
          "output_type": "stream",
          "name": "stdout",
          "text": [
            "kết qua dự đoán của NAIVE [0.93333333 1.         0.92857143 0.92857143 0.92857143 1.\n",
            " 0.92857143 1.         1.         1.        ]\n"
          ]
        }
      ]
    },
    {
      "cell_type": "markdown",
      "source": [
        "![image.png](data:image/png;base64,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)\n",
        "![image.png](data:image/png;base64,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)"
      ],
      "metadata": {
        "id": "rhctOvKb94sN"
      }
    },
    {
      "cell_type": "markdown",
      "source": [
        "Mô Hình logistic\n",
        "---"
      ],
      "metadata": {
        "id": "4FvwFVeBC0K2"
      }
    },
    {
      "cell_type": "code",
      "source": [
        "y_hat = cross_val_predict(model, X_test, y_test, cv=10)\n",
        "print(\"y du doan cua logistic\",y_hat)"
      ],
      "metadata": {
        "colab": {
          "base_uri": "https://localhost:8080/"
        },
        "id": "01O9XY7wC0v8",
        "outputId": "2c4c7018-4ce0-4823-a874-ef44811a65c9"
      },
      "execution_count": 1379,
      "outputs": [
        {
          "output_type": "stream",
          "name": "stdout",
          "text": [
            "y du doan cua logistic [3. 1. 3. 1. 2. 1. 2. 3. 2. 1. 3. 2. 2. 2. 1. 2. 3. 1. 3. 2. 3. 1. 3. 3.\n",
            " 3. 1. 3. 1. 1. 1. 2. 3. 1. 2. 3. 1.]\n"
          ]
        }
      ]
    },
    {
      "cell_type": "code",
      "source": [
        "ac=accuracy_score(y_hat, y_test)\n",
        "print('Hiệu năng mô hình acc cua logistic : ', ac)\n",
        "ps=precision_score(y_test, y_hat,average='macro')\n",
        "print(\"Hiệu năng mô hình precision cua logistic\",ps)\n",
        "rs =recall_score(y_test, y_hat, average='macro')\n",
        "print(\"Hiệu năng mô hình recall cua logistic\",rs)\n",
        "f1= 2*(ps*rs)/(ps+rs)\n",
        "print(\"Hiệu năng mô hình f1 cua logistic\",f1)\n",
        "f1_score(y_test, y_hat, average='macro')"
      ],
      "metadata": {
        "colab": {
          "base_uri": "https://localhost:8080/"
        },
        "id": "OM8wq-NOC50u",
        "outputId": "29540703-6098-49e6-b1a8-efd2e5d9fb75"
      },
      "execution_count": 1380,
      "outputs": [
        {
          "output_type": "stream",
          "name": "stdout",
          "text": [
            "Hiệu năng mô hình acc cua logistic :  0.9166666666666666\n",
            "Hiệu năng mô hình precision cua logistic 0.923076923076923\n",
            "Hiệu năng mô hình recall cua logistic 0.923076923076923\n",
            "Hiệu năng mô hình f1 cua logistic 0.923076923076923\n"
          ]
        },
        {
          "output_type": "execute_result",
          "data": {
            "text/plain": [
              "0.9154106280193237"
            ]
          },
          "metadata": {},
          "execution_count": 1380
        }
      ]
    },
    {
      "cell_type": "code",
      "source": [
        "coun=[ac,ps,rs,f1]\n",
        "sticker=(\"acc logistic\",\"precision logistic\",\"recall logistic\",\"f1 logistic\")\n",
        "plt.bar(sticker,coun,color=\"pink\")\n",
        "plt.xlabel(\"cac độ đo\")"
      ],
      "metadata": {
        "colab": {
          "base_uri": "https://localhost:8080/",
          "height": 298
        },
        "id": "IrivkMcNDAmM",
        "outputId": "9d214ca1-23e5-4fb9-e1b5-fc3ec0c860dc"
      },
      "execution_count": 1381,
      "outputs": [
        {
          "output_type": "execute_result",
          "data": {
            "text/plain": [
              "Text(0.5, 0, 'cac độ đo')"
            ]
          },
          "metadata": {},
          "execution_count": 1381
        },
        {
          "output_type": "display_data",
          "data": {
            "text/plain": [
              "<Figure size 432x288 with 1 Axes>"
            ],
            "image/png": "[encoded data removed]"
          },
          "metadata": {
            "needs_background": "light"
          }
        }
      ]
    },
    {
      "cell_type": "markdown",
      "source": [
        "K-lân cận\n",
        "---"
      ],
      "metadata": {
        "id": "s2eLBhoQDDB9"
      }
    },
    {
      "cell_type": "code",
      "source": [
        "kNN = KNeighborsClassifier(n_neighbors=5)\n",
        "kNN.fit(X_train, y_train)\n",
        "y_hat_KNN = kNN.predict(X_test)\n",
        "print(\"y dự đoán của K lân cận\\n\",y_hat_KNN)"
      ],
      "metadata": {
        "colab": {
          "base_uri": "https://localhost:8080/"
        },
        "id": "iqU5sl_aDDZF",
        "outputId": "fbba0881-f71c-4c62-c6b9-f264b079bd82"
      },
      "execution_count": 1382,
      "outputs": [
        {
          "output_type": "stream",
          "name": "stdout",
          "text": [
            "y dự đoán của K lân cận\n",
            " [3. 1. 3. 2. 2. 1. 2. 3. 2. 1. 3. 2. 2. 1. 1. 2. 3. 1. 3. 2. 3. 1. 3. 3.\n",
            " 3. 1. 3. 1. 1. 1. 2. 3. 1. 2. 3. 1.]\n"
          ]
        }
      ]
    },
    {
      "cell_type": "code",
      "source": [
        "ac_KNN=accuracy_score(y_hat_KNN, y_test)\n",
        "print(\"Hiệu năng mô hình acc cua K lân cận\",ac_KNN)\n",
        "ps_KNN=precision_score(y_test, y_hat_KNN,average='macro')\n",
        "print(\"Hiệu năng mô hình precision cua K lân cận\",ps_KNN)\n",
        "rs_KNN =recall_score(y_test, y_hat_KNN, average='macro')\n",
        "print(\"Hiệu năng mô hình recall cua K lân cận\",rs_KNN)\n",
        "f1_KNN= 2*(ps_KNN*rs_KNN)/(ps_KNN+rs_KNN)\n",
        "print(\"Hiệu năng mô hình f1 cua K lân cận\",f1_KNN)\n",
        "f1_score(y_test, y_hat_KNN, average='macro')"
      ],
      "metadata": {
        "colab": {
          "base_uri": "https://localhost:8080/"
        },
        "id": "92ejzFn6DJE9",
        "outputId": "a9e28253-f5eb-45ed-97e9-e237e117d1d2"
      },
      "execution_count": 1383,
      "outputs": [
        {
          "output_type": "stream",
          "name": "stdout",
          "text": [
            "Hiệu năng mô hình acc cua K lân cận 0.9166666666666666\n",
            "Hiệu năng mô hình precision cua K lân cận 0.923076923076923\n",
            "Hiệu năng mô hình recall cua K lân cận 0.923076923076923\n",
            "Hiệu năng mô hình f1 cua K lân cận 0.923076923076923\n"
          ]
        },
        {
          "output_type": "execute_result",
          "data": {
            "text/plain": [
              "0.9154106280193237"
            ]
          },
          "metadata": {},
          "execution_count": 1383
        }
      ]
    },
    {
      "cell_type": "code",
      "source": [
        "coun1=[ac_KNN,ps_KNN,rs_KNN,f1_KNN]\n",
        "sticker1=(\"accuracy_KNN\",\"precision_KNN\",\"recall_KNN\",\"f1_KNN\")\n",
        "plt.bar(sticker1,coun1, width=0.8,color=\"lightblue\")\n",
        "plt.xlabel(\"cac độ đo tai KNN\")"
      ],
      "metadata": {
        "colab": {
          "base_uri": "https://localhost:8080/",
          "height": 299
        },
        "id": "cQME5VxXDLCF",
        "outputId": "53d872d0-aa01-4c88-c696-696d8cd6765c"
      },
      "execution_count": 1384,
      "outputs": [
        {
          "output_type": "execute_result",
          "data": {
            "text/plain": [
              "Text(0.5, 0, 'cac độ đo tai KNN')"
            ]
          },
          "metadata": {},
          "execution_count": 1384
        },
        {
          "output_type": "display_data",
          "data": {
            "text/plain": [
              "<Figure size 432x288 with 1 Axes>"
            ],
            "image/png": "[encoded data removed]"
          },
          "metadata": {
            "needs_background": "light"
          }
        }
      ]
    },
    {
      "cell_type": "markdown",
      "source": [
        "Ngây thơ\n",
        "---"
      ],
      "metadata": {
        "id": "sSJk96coDYUV"
      }
    },
    {
      "cell_type": "code",
      "source": [
        "gnb_model = GaussianNB()\n",
        "gnb_model.fit(X_train, y_train)\n",
        "y_hat_nv = gnb_model.predict(X_test)\n",
        "print(\"y dự ddoasnd của Naive\\n\",y_hat_nv)"
      ],
      "metadata": {
        "colab": {
          "base_uri": "https://localhost:8080/"
        },
        "id": "abQtjuLeDYyi",
        "outputId": "bdcebd89-8133-476e-c43f-6c01f481fae3"
      },
      "execution_count": 1385,
      "outputs": [
        {
          "output_type": "stream",
          "name": "stdout",
          "text": [
            "y dự ddoasnd của Naive\n",
            " [3. 1. 3. 2. 2. 1. 2. 3. 2. 1. 2. 2. 2. 2. 1. 2. 3. 1. 3. 2. 3. 1. 3. 3.\n",
            " 3. 1. 3. 2. 1. 1. 2. 3. 1. 2. 3. 1.]\n"
          ]
        }
      ]
    },
    {
      "cell_type": "code",
      "source": [
        "ac_nv=accuracy_score(y_test,y_hat_nv)\n",
        "print(\"Hiệu năng mô hình acc cua NAIVE\",ac_nv)\n",
        "ps_nv=precision_score(y_test, y_hat_nv,average='weighted')\n",
        "print(\"Hiệu năng mô hình precision cua NAIVE\",ps_nv)\n",
        "rs_nv =recall_score(y_test, y_hat_nv, average='weighted')\n",
        "print(\"Hiệu năng mô hình recall cua NAIVE\",rs_nv)\n",
        "f1_nv= 2*(ps_nv*rs_nv)/(ps_nv+rs_nv)\n",
        "#f1_nv=f1_score(y_test, y_hat_KNN, average='weighted')\n",
        "print(\"Hiệu năng mô hình f1 cua NAIVE\",f1_nv)"
      ],
      "metadata": {
        "colab": {
          "base_uri": "https://localhost:8080/"
        },
        "id": "cceLZd9nDdX0",
        "outputId": "70c4a99a-9ca4-4195-f199-5a2c06b32e03"
      },
      "execution_count": 1386,
      "outputs": [
        {
          "output_type": "stream",
          "name": "stdout",
          "text": [
            "Hiệu năng mô hình acc cua NAIVE 1.0\n",
            "Hiệu năng mô hình precision cua NAIVE 1.0\n",
            "Hiệu năng mô hình recall cua NAIVE 1.0\n",
            "Hiệu năng mô hình f1 cua NAIVE 1.0\n"
          ]
        }
      ]
    },
    {
      "cell_type": "code",
      "source": [
        "coun2=[ac_nv,ps_nv,rs_nv,f1_nv]\n",
        "sticker1=(\"accuracy_score_NAIVE\",\"precision_score_NAIVE\",\"recall_score_NAIVE\",\"f1_NAIVE\")\n",
        "plt.bar(sticker1,coun1, width=0.8,color = 'darkgreen')\n",
        "plt.xlabel(\"cac độ đo tai KNN\")"
      ],
      "metadata": {
        "colab": {
          "base_uri": "https://localhost:8080/",
          "height": 299
        },
        "id": "cks6EdXoDhAj",
        "outputId": "444115a2-7c32-4253-8691-295f1406c11b"
      },
      "execution_count": 1387,
      "outputs": [
        {
          "output_type": "execute_result",
          "data": {
            "text/plain": [
              "Text(0.5, 0, 'cac độ đo tai KNN')"
            ]
          },
          "metadata": {},
          "execution_count": 1387
        },
        {
          "output_type": "display_data",
          "data": {
            "text/plain": [
              "<Figure size 432x288 with 1 Axes>"
            ],
            "image/png": "[encoded data removed]"
          },
          "metadata": {
            "needs_background": "light"
          }
        }
      ]
    },
    {
      "cell_type": "markdown",
      "source": [
        "so sanh kết quả 3 mô hình\n",
        "---"
      ],
      "metadata": {
        "id": "qUZ2RQJEDkYc"
      }
    },
    {
      "cell_type": "code",
      "source": [
        "from matplotlib.projections.polar import mpatches\n",
        "f, ax = plt.subplots(figsize=(20,6)) # set the size that you'd like (width, height)\n",
        "my_colors= ['blue','darkred', 'pink']\n",
        "labels = ['logis','k lân cận','naive']\n",
        "counss=[ac,ac_KNN,ac_nv]\n",
        "counss2=[ps,ps_KNN,ps_nv]\n",
        "counss3=[rs,ps_KNN,rs_nv]\n",
        "countss4=[f1,f1_KNN,f1_nv]\n",
        "stickerss=(\"accuracy logistic\",\"accuracy_KNN\",\"accuracy_NAIVE\")\n",
        "stickerss2=(\"precision logistic\",\"precision_KNN\",\"precision_NAIVE\")\n",
        "stickerss3=(\"recall logistic\",\"recall_KNN\",\"recall_NAIVE\")\n",
        "stickerss4=(\"f1 logistic\",\"f1_KNN\",\"f1_NAIVE\")\n",
        "plt.bar(stickerss,counss , label = 'accuracy_score',color=my_colors)\n",
        "plt.bar(stickerss2,counss2, label = 'precision_score',color=my_colors)\n",
        "plt.bar(stickerss3,counss3, label = 'recall_score',color=my_colors)\n",
        "plt.bar(stickerss4,countss4, label = 'f1 bar',color=my_colors)\n",
        "logistic = mpatches.Patch(color='Blue', label='Logistic')\n",
        "KNN = mpatches.Patch(color='darkred', label='K NN')\n",
        "NAIVE = mpatches.Patch(color='pink', label='NAIVE')\n",
        "\n",
        "ax.legend(fontsize = 15,handles=[logistic,KNN,NAIVE],loc=4)"
      ],
      "metadata": {
        "colab": {
          "base_uri": "https://localhost:8080/",
          "height": 393
        },
        "id": "LOO1BAUwDnU2",
        "outputId": "e5664403-c937-486a-d138-1af981d7df0a"
      },
      "execution_count": 1388,
      "outputs": [
        {
          "output_type": "execute_result",
          "data": {
            "text/plain": [
              "<matplotlib.legend.Legend at 0x7fc5b3438a10>"
            ]
          },
          "metadata": {},
          "execution_count": 1388
        },
        {
          "output_type": "display_data",
          "data": {
            "text/plain": [
              "<Figure size 1440x432 with 1 Axes>"
            ],
            "image/png": "[encoded data removed]"
          },
          "metadata": {
            "needs_background": "light"
          }
        }
      ]
    },
    {
      "cell_type": "markdown",
      "source": [
        "Đánh hiệu năng từng mô hình \n",
        "---"
      ],
      "metadata": {
        "id": "9N4hjka4REm_"
      }
    },
    {
      "cell_type": "code",
      "source": [
        "counss=[ac,ac_KNN,ac_nv]\n",
        "label = ['ac','ac_KNN','ac_nv']\n",
        "for i in range(len(counss)):\n",
        "  if counss[i] == max(counss):\n",
        "    print(\"như vậy ta thấy mô hinh accuracy_score \",label[i],\"lớn nhất la bằng\",counss[i])\n",
        "counss2=[ps,ps_KNN,ps_nv]\n",
        "label2=[\"ps\",\"ps_KNN\",\"ps_nv\"]\n",
        "for i in range(len(counss2)):\n",
        "  if counss2[i] == max(counss2):\n",
        "    print(\"như vậy ta thấy mô hinh precision_score \",label2[i],\"lớn nhất la bằng\",counss2[i])    \n",
        "counss3=[rs,ps_KNN,rs_nv]\n",
        "label3=[\"rs\",\"ps_KNN\",\"rs_nv\"]\n",
        "for i in range(len(counss3)):\n",
        "  if counss3[i] == max(counss3):\n",
        "    print(\"như vậy ta thấy mô hinh recall_score\",label3[i],\"lớn nhất la bằng\",counss3[i]) \n",
        "countss4=[f1,f1_KNN,f1_nv]\n",
        "label4=[\"f1\",\"f1_KNN\",\"f1_nv\"]\n",
        "for i in range(len(countss4)):\n",
        "  if countss4[i] == max(countss4):\n",
        "    print(\"như vậy ta thấy mô hinh f1\",label4[i],\"lớn nhất la bằng\",countss4[i])    "
      ],
      "metadata": {
        "colab": {
          "base_uri": "https://localhost:8080/"
        },
        "id": "5ZsSkzkzNEj4",
        "outputId": "5f14c5b7-1aa6-4b47-849b-53eb4bd3f1bc"
      },
      "execution_count": 1389,
      "outputs": [
        {
          "output_type": "stream",
          "name": "stdout",
          "text": [
            "như vậy ta thấy mô hinh accuracy_score  ac_nv lớn nhất la bằng 1.0\n",
            "như vậy ta thấy mô hinh precision_score  ps_nv lớn nhất la bằng 1.0\n",
            "như vậy ta thấy mô hinh recall_score rs_nv lớn nhất la bằng 1.0\n",
            "như vậy ta thấy mô hinh f1 f1_nv lớn nhất la bằng 1.0\n"
          ]
        }
      ]
    }
  ]
}